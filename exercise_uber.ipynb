{
 "cells": [
  {
   "cell_type": "markdown",
   "metadata": {},
   "source": [
    "Select one of the challenge areas below, which represent real challenges you will encounter as a data scientist in Marketplace. Use the datasets provided to you to create a technical document or presentation in which you will:\n",
    "\n",
    "- Show and Explain the **prevalence of the problem** using the provided dataset.\n",
    "- Develop **predictive model(s)** to solve the problem and evaluate the model performance.\n",
    "- Discuss **metrics** that can be used to measure the business impact of your solution.\n",
    "- Explain your **plan for testing** the solution and quantifying the business impact.\n",
    "- **Recommend actionable next steps** and other factors to consider as we plan to solve the problem.\n",
    "\n",
    "\n",
    "#### When to drive\n",
    "New drivers might have trouble earning money when they join because they don’t know when and where to drive to maximize their earnings.<br> If drivers drove in **better locations and times**, Uber and driver partners would **earn more money**, and riders would get **shorter ETA’s and lower prices.**<br> Build models to predict the benefit of driving in different times and locations in the coming week, and give each driver in the dataset a recommendation about when and where to drive. Please be explicit about what you’re optimizing for and why.\n"
   ]
  },
  {
   "cell_type": "markdown",
   "metadata": {},
   "source": [
    "normalized scalar\n",
    "feature_mapper\n",
    "pca"
   ]
  },
  {
   "cell_type": "code",
   "execution_count": 1,
   "metadata": {},
   "outputs": [],
   "source": [
    "import pandas as pd\n",
    "import numpy as np\n",
    "import matplotlib.pyplot as plt\n",
    "% matplotlib inline\n",
    "import seaborn as sns\n",
    "from scipy.stats import norm, boxcox, skewnorm, percentileofscore"
   ]
  },
  {
   "cell_type": "code",
   "execution_count": 2,
   "metadata": {},
   "outputs": [],
   "source": [
    "from sklearn.linear_model import LinearRegression"
   ]
  },
  {
   "cell_type": "code",
   "execution_count": 3,
   "metadata": {},
   "outputs": [],
   "source": [
    "from sklearn.tree import DecisionTreeRegressor"
   ]
  },
  {
   "cell_type": "code",
   "execution_count": 4,
   "metadata": {},
   "outputs": [],
   "source": [
    "from sklearn.ensemble import RandomForestRegressor, GradientBoostingRegressor"
   ]
  },
  {
   "cell_type": "code",
   "execution_count": 5,
   "metadata": {},
   "outputs": [],
   "source": [
    "from sklearn.naive_bayes import GaussianNB, BernoulliNB"
   ]
  },
  {
   "cell_type": "code",
   "execution_count": 6,
   "metadata": {},
   "outputs": [],
   "source": [
    "from sklearn.model_selection import train_test_split"
   ]
  },
  {
   "cell_type": "code",
   "execution_count": 7,
   "metadata": {},
   "outputs": [],
   "source": [
    "df1 = pd.read_excel('uber_exer.xlsx', sheet_name=0)\n",
    "df1 = df1.drop('Unnamed: 0', axis=1)"
   ]
  },
  {
   "cell_type": "code",
   "execution_count": 8,
   "metadata": {
    "scrolled": true
   },
   "outputs": [],
   "source": [
    "df1.rename(columns={'Data Overview':'Data', 'Unnamed: 2':'Overview'}, inplace=True)"
   ]
  },
  {
   "cell_type": "code",
   "execution_count": 9,
   "metadata": {
    "scrolled": true
   },
   "outputs": [
    {
     "data": {
      "text/html": [
       "<div>\n",
       "<style scoped>\n",
       "    .dataframe tbody tr th:only-of-type {\n",
       "        vertical-align: middle;\n",
       "    }\n",
       "\n",
       "    .dataframe tbody tr th {\n",
       "        vertical-align: top;\n",
       "    }\n",
       "\n",
       "    .dataframe thead th {\n",
       "        text-align: right;\n",
       "    }\n",
       "</style>\n",
       "<table border=\"1\" class=\"dataframe\">\n",
       "  <thead>\n",
       "    <tr style=\"text-align: right;\">\n",
       "      <th></th>\n",
       "      <th>Data</th>\n",
       "      <th>Overview</th>\n",
       "    </tr>\n",
       "  </thead>\n",
       "  <tbody>\n",
       "    <tr>\n",
       "      <th>0</th>\n",
       "      <td>The data in these tables represent a portion of the total data for the city. For example, trip data only includes trips within the city that start or end within given geofences, so there are more total trips in the city.\\n\\nSimilarly, the driver and rider data tables represent only a portion of drivers and riders in the city.\\n\\nLast, there may be some data that is incorrect or missing. Feel free to call this out in your analysis.</td>\n",
       "      <td>NaN</td>\n",
       "    </tr>\n",
       "    <tr>\n",
       "      <th>1</th>\n",
       "      <td>NaN</td>\n",
       "      <td>NaN</td>\n",
       "    </tr>\n",
       "    <tr>\n",
       "      <th>2</th>\n",
       "      <td>driver_trips</td>\n",
       "      <td>NaN</td>\n",
       "    </tr>\n",
       "    <tr>\n",
       "      <th>3</th>\n",
       "      <td>trip_id</td>\n",
       "      <td>Unique identifier for trip</td>\n",
       "    </tr>\n",
       "    <tr>\n",
       "      <th>4</th>\n",
       "      <td>driver_id</td>\n",
       "      <td>Unique identifier for driver</td>\n",
       "    </tr>\n",
       "    <tr>\n",
       "      <th>5</th>\n",
       "      <td>trip_status</td>\n",
       "      <td>Status of the trip \\n(unfulfilled = rider request, no driver able to dispatch\\nfailed = trip request failed)</td>\n",
       "    </tr>\n",
       "    <tr>\n",
       "      <th>6</th>\n",
       "      <td>actual_time_to_arrival</td>\n",
       "      <td>Minutes from request to pick-up</td>\n",
       "    </tr>\n",
       "    <tr>\n",
       "      <th>7</th>\n",
       "      <td>request_time</td>\n",
       "      <td>Local request time of the trip</td>\n",
       "    </tr>\n",
       "    <tr>\n",
       "      <th>8</th>\n",
       "      <td>surge_multiplier</td>\n",
       "      <td>The surge multiplier of the request (1 is no surge)</td>\n",
       "    </tr>\n",
       "    <tr>\n",
       "      <th>9</th>\n",
       "      <td>driver_payout</td>\n",
       "      <td>The amount the driver was paid for the trip</td>\n",
       "    </tr>\n",
       "    <tr>\n",
       "      <th>10</th>\n",
       "      <td>start_geo</td>\n",
       "      <td>The geo of the request point of the trip</td>\n",
       "    </tr>\n",
       "    <tr>\n",
       "      <th>11</th>\n",
       "      <td>end_geo</td>\n",
       "      <td>The geo of the dropoff point of the trip</td>\n",
       "    </tr>\n",
       "    <tr>\n",
       "      <th>12</th>\n",
       "      <td>NaN</td>\n",
       "      <td>NaN</td>\n",
       "    </tr>\n",
       "    <tr>\n",
       "      <th>13</th>\n",
       "      <td>rider_trips</td>\n",
       "      <td>NaN</td>\n",
       "    </tr>\n",
       "    <tr>\n",
       "      <th>14</th>\n",
       "      <td>trip_id</td>\n",
       "      <td>Unique identifier for trip</td>\n",
       "    </tr>\n",
       "    <tr>\n",
       "      <th>15</th>\n",
       "      <td>rider_id</td>\n",
       "      <td>Unique identifier for rider</td>\n",
       "    </tr>\n",
       "    <tr>\n",
       "      <th>16</th>\n",
       "      <td>trip_status</td>\n",
       "      <td>Status of the trip \\n(unfulfilled = rider request, no driver able to dispatch\\nfailed = trip request failed)</td>\n",
       "    </tr>\n",
       "    <tr>\n",
       "      <th>17</th>\n",
       "      <td>estimated_time_to_arrival</td>\n",
       "      <td>Minutes estimated at time of request to pick-up time</td>\n",
       "    </tr>\n",
       "    <tr>\n",
       "      <th>18</th>\n",
       "      <td>request_time</td>\n",
       "      <td>Local request time of the trip</td>\n",
       "    </tr>\n",
       "    <tr>\n",
       "      <th>19</th>\n",
       "      <td>surge_multiplier</td>\n",
       "      <td>The surge multiplier of the request (1 is no surge)</td>\n",
       "    </tr>\n",
       "    <tr>\n",
       "      <th>20</th>\n",
       "      <td>trip_price_pre_discount</td>\n",
       "      <td>The original price of the trip</td>\n",
       "    </tr>\n",
       "    <tr>\n",
       "      <th>21</th>\n",
       "      <td>rider_payment</td>\n",
       "      <td>The amount the rider paid for the trip (includes discount)</td>\n",
       "    </tr>\n",
       "    <tr>\n",
       "      <th>22</th>\n",
       "      <td>start_geo</td>\n",
       "      <td>The geo of the request point of the trip</td>\n",
       "    </tr>\n",
       "    <tr>\n",
       "      <th>23</th>\n",
       "      <td>end_geo</td>\n",
       "      <td>The geo of the dropoff point of the trip</td>\n",
       "    </tr>\n",
       "    <tr>\n",
       "      <th>24</th>\n",
       "      <td>NaN</td>\n",
       "      <td>NaN</td>\n",
       "    </tr>\n",
       "    <tr>\n",
       "      <th>25</th>\n",
       "      <td>driver_data</td>\n",
       "      <td>NaN</td>\n",
       "    </tr>\n",
       "    <tr>\n",
       "      <th>26</th>\n",
       "      <td>driver_id</td>\n",
       "      <td>Unique identifier for driver</td>\n",
       "    </tr>\n",
       "    <tr>\n",
       "      <th>27</th>\n",
       "      <td>first_completed_trip</td>\n",
       "      <td>Timestamp of the driver's first completed trip</td>\n",
       "    </tr>\n",
       "    <tr>\n",
       "      <th>28</th>\n",
       "      <td>lifetime_rating</td>\n",
       "      <td>Lifetime rating of driver</td>\n",
       "    </tr>\n",
       "    <tr>\n",
       "      <th>29</th>\n",
       "      <td>lifetime_fares</td>\n",
       "      <td>Lifetime payout to driver</td>\n",
       "    </tr>\n",
       "    <tr>\n",
       "      <th>30</th>\n",
       "      <td>lifetime_completed_trips</td>\n",
       "      <td>Lifetime completed trips of driver</td>\n",
       "    </tr>\n",
       "    <tr>\n",
       "      <th>31</th>\n",
       "      <td>NaN</td>\n",
       "      <td>NaN</td>\n",
       "    </tr>\n",
       "    <tr>\n",
       "      <th>32</th>\n",
       "      <td>rider_data</td>\n",
       "      <td>NaN</td>\n",
       "    </tr>\n",
       "    <tr>\n",
       "      <th>33</th>\n",
       "      <td>rider_id</td>\n",
       "      <td>Unique identifier for rider</td>\n",
       "    </tr>\n",
       "    <tr>\n",
       "      <th>34</th>\n",
       "      <td>first_completed_trip</td>\n",
       "      <td>Timestamp of the rider's first completed trip</td>\n",
       "    </tr>\n",
       "    <tr>\n",
       "      <th>35</th>\n",
       "      <td>lifetime_trips</td>\n",
       "      <td>Lifetime completed trips of rider</td>\n",
       "    </tr>\n",
       "    <tr>\n",
       "      <th>36</th>\n",
       "      <td>first_trip_city_id</td>\n",
       "      <td>The city ID of the rider's first trip</td>\n",
       "    </tr>\n",
       "    <tr>\n",
       "      <th>37</th>\n",
       "      <td>lifetime_payments</td>\n",
       "      <td>Lifetime payments of rider</td>\n",
       "    </tr>\n",
       "    <tr>\n",
       "      <th>38</th>\n",
       "      <td>NaN</td>\n",
       "      <td>NaN</td>\n",
       "    </tr>\n",
       "    <tr>\n",
       "      <th>39</th>\n",
       "      <td>city_metrics</td>\n",
       "      <td>NaN</td>\n",
       "    </tr>\n",
       "    <tr>\n",
       "      <th>40</th>\n",
       "      <td>timestamp</td>\n",
       "      <td>Day and hour of data</td>\n",
       "    </tr>\n",
       "    <tr>\n",
       "      <th>41</th>\n",
       "      <td>requests</td>\n",
       "      <td>Total requests in the given hour</td>\n",
       "    </tr>\n",
       "    <tr>\n",
       "      <th>42</th>\n",
       "      <td>trips</td>\n",
       "      <td>Total completed trips in the given hour</td>\n",
       "    </tr>\n",
       "    <tr>\n",
       "      <th>43</th>\n",
       "      <td>supply_hours</td>\n",
       "      <td>Total supply hours in the given hour</td>\n",
       "    </tr>\n",
       "    <tr>\n",
       "      <th>44</th>\n",
       "      <td>mean_surge_multipler</td>\n",
       "      <td>Mean surge multiplier of completed trips in that hour</td>\n",
       "    </tr>\n",
       "  </tbody>\n",
       "</table>\n",
       "</div>"
      ],
      "text/plain": [
       "                                                                                                                                                                                                                                                                                                                                                                                                                                                  Data  \\\n",
       "0   The data in these tables represent a portion of the total data for the city. For example, trip data only includes trips within the city that start or end within given geofences, so there are more total trips in the city.\\n\\nSimilarly, the driver and rider data tables represent only a portion of drivers and riders in the city.\\n\\nLast, there may be some data that is incorrect or missing. Feel free to call this out in your analysis.   \n",
       "1   NaN                                                                                                                                                                                                                                                                                                                                                                                                                                                  \n",
       "2   driver_trips                                                                                                                                                                                                                                                                                                                                                                                                                                         \n",
       "3   trip_id                                                                                                                                                                                                                                                                                                                                                                                                                                              \n",
       "4   driver_id                                                                                                                                                                                                                                                                                                                                                                                                                                            \n",
       "5   trip_status                                                                                                                                                                                                                                                                                                                                                                                                                                          \n",
       "6   actual_time_to_arrival                                                                                                                                                                                                                                                                                                                                                                                                                               \n",
       "7   request_time                                                                                                                                                                                                                                                                                                                                                                                                                                         \n",
       "8   surge_multiplier                                                                                                                                                                                                                                                                                                                                                                                                                                     \n",
       "9   driver_payout                                                                                                                                                                                                                                                                                                                                                                                                                                        \n",
       "10  start_geo                                                                                                                                                                                                                                                                                                                                                                                                                                            \n",
       "11  end_geo                                                                                                                                                                                                                                                                                                                                                                                                                                              \n",
       "12  NaN                                                                                                                                                                                                                                                                                                                                                                                                                                                  \n",
       "13  rider_trips                                                                                                                                                                                                                                                                                                                                                                                                                                          \n",
       "14  trip_id                                                                                                                                                                                                                                                                                                                                                                                                                                              \n",
       "15  rider_id                                                                                                                                                                                                                                                                                                                                                                                                                                             \n",
       "16  trip_status                                                                                                                                                                                                                                                                                                                                                                                                                                          \n",
       "17  estimated_time_to_arrival                                                                                                                                                                                                                                                                                                                                                                                                                            \n",
       "18  request_time                                                                                                                                                                                                                                                                                                                                                                                                                                         \n",
       "19  surge_multiplier                                                                                                                                                                                                                                                                                                                                                                                                                                     \n",
       "20  trip_price_pre_discount                                                                                                                                                                                                                                                                                                                                                                                                                              \n",
       "21  rider_payment                                                                                                                                                                                                                                                                                                                                                                                                                                        \n",
       "22  start_geo                                                                                                                                                                                                                                                                                                                                                                                                                                            \n",
       "23  end_geo                                                                                                                                                                                                                                                                                                                                                                                                                                              \n",
       "24  NaN                                                                                                                                                                                                                                                                                                                                                                                                                                                  \n",
       "25  driver_data                                                                                                                                                                                                                                                                                                                                                                                                                                          \n",
       "26  driver_id                                                                                                                                                                                                                                                                                                                                                                                                                                            \n",
       "27  first_completed_trip                                                                                                                                                                                                                                                                                                                                                                                                                                 \n",
       "28  lifetime_rating                                                                                                                                                                                                                                                                                                                                                                                                                                      \n",
       "29  lifetime_fares                                                                                                                                                                                                                                                                                                                                                                                                                                       \n",
       "30  lifetime_completed_trips                                                                                                                                                                                                                                                                                                                                                                                                                             \n",
       "31  NaN                                                                                                                                                                                                                                                                                                                                                                                                                                                  \n",
       "32  rider_data                                                                                                                                                                                                                                                                                                                                                                                                                                           \n",
       "33  rider_id                                                                                                                                                                                                                                                                                                                                                                                                                                             \n",
       "34  first_completed_trip                                                                                                                                                                                                                                                                                                                                                                                                                                 \n",
       "35  lifetime_trips                                                                                                                                                                                                                                                                                                                                                                                                                                       \n",
       "36  first_trip_city_id                                                                                                                                                                                                                                                                                                                                                                                                                                   \n",
       "37  lifetime_payments                                                                                                                                                                                                                                                                                                                                                                                                                                    \n",
       "38  NaN                                                                                                                                                                                                                                                                                                                                                                                                                                                  \n",
       "39  city_metrics                                                                                                                                                                                                                                                                                                                                                                                                                                         \n",
       "40  timestamp                                                                                                                                                                                                                                                                                                                                                                                                                                            \n",
       "41  requests                                                                                                                                                                                                                                                                                                                                                                                                                                             \n",
       "42  trips                                                                                                                                                                                                                                                                                                                                                                                                                                                \n",
       "43  supply_hours                                                                                                                                                                                                                                                                                                                                                                                                                                         \n",
       "44  mean_surge_multipler                                                                                                                                                                                                                                                                                                                                                                                                                                 \n",
       "\n",
       "                                                                                                        Overview  \n",
       "0   NaN                                                                                                           \n",
       "1   NaN                                                                                                           \n",
       "2   NaN                                                                                                           \n",
       "3   Unique identifier for trip                                                                                    \n",
       "4   Unique identifier for driver                                                                                  \n",
       "5   Status of the trip \\n(unfulfilled = rider request, no driver able to dispatch\\nfailed = trip request failed)  \n",
       "6   Minutes from request to pick-up                                                                               \n",
       "7   Local request time of the trip                                                                                \n",
       "8   The surge multiplier of the request (1 is no surge)                                                           \n",
       "9   The amount the driver was paid for the trip                                                                   \n",
       "10  The geo of the request point of the trip                                                                      \n",
       "11  The geo of the dropoff point of the trip                                                                      \n",
       "12  NaN                                                                                                           \n",
       "13  NaN                                                                                                           \n",
       "14  Unique identifier for trip                                                                                    \n",
       "15  Unique identifier for rider                                                                                   \n",
       "16  Status of the trip \\n(unfulfilled = rider request, no driver able to dispatch\\nfailed = trip request failed)  \n",
       "17  Minutes estimated at time of request to pick-up time                                                          \n",
       "18  Local request time of the trip                                                                                \n",
       "19  The surge multiplier of the request (1 is no surge)                                                           \n",
       "20  The original price of the trip                                                                                \n",
       "21  The amount the rider paid for the trip (includes discount)                                                    \n",
       "22  The geo of the request point of the trip                                                                      \n",
       "23  The geo of the dropoff point of the trip                                                                      \n",
       "24  NaN                                                                                                           \n",
       "25  NaN                                                                                                           \n",
       "26  Unique identifier for driver                                                                                  \n",
       "27  Timestamp of the driver's first completed trip                                                                \n",
       "28  Lifetime rating of driver                                                                                     \n",
       "29  Lifetime payout to driver                                                                                     \n",
       "30  Lifetime completed trips of driver                                                                            \n",
       "31  NaN                                                                                                           \n",
       "32  NaN                                                                                                           \n",
       "33  Unique identifier for rider                                                                                   \n",
       "34  Timestamp of the rider's first completed trip                                                                 \n",
       "35  Lifetime completed trips of rider                                                                             \n",
       "36  The city ID of the rider's first trip                                                                         \n",
       "37  Lifetime payments of rider                                                                                    \n",
       "38  NaN                                                                                                           \n",
       "39  NaN                                                                                                           \n",
       "40  Day and hour of data                                                                                          \n",
       "41  Total requests in the given hour                                                                              \n",
       "42  Total completed trips in the given hour                                                                       \n",
       "43  Total supply hours in the given hour                                                                          \n",
       "44  Mean surge multiplier of completed trips in that hour                                                         "
      ]
     },
     "execution_count": 9,
     "metadata": {},
     "output_type": "execute_result"
    }
   ],
   "source": [
    "pd.set_option('display.max_colwidth', -1)\n",
    "df1"
   ]
  },
  {
   "cell_type": "code",
   "execution_count": 10,
   "metadata": {},
   "outputs": [],
   "source": [
    "driver_trips = pd.read_excel('uber_exer.xlsx', sheet_name=1)\n",
    "rider_trips = pd.read_excel('uber_exer.xlsx', sheet_name=2)\n",
    "driver_data = pd.read_excel('uber_exer.xlsx', sheet_name=3)\n",
    "rider_data = pd.read_excel('uber_exer.xlsx', sheet_name=4)\n",
    "city_metrics = pd.read_excel('uber_exer.xlsx', sheet_name=5)"
   ]
  },
  {
   "cell_type": "code",
   "execution_count": 11,
   "metadata": {},
   "outputs": [],
   "source": [
    "dd_cols = list(driver_data.columns.difference(driver_trips.columns))\n",
    "dd_cols = ['driver_id'] + dd_cols\n",
    "\n",
    "cdnsd = driver_trips.merge(driver_data[dd_cols], on='driver_id')"
   ]
  },
  {
   "cell_type": "code",
   "execution_count": 12,
   "metadata": {},
   "outputs": [],
   "source": [
    "rt_cols = list(rider_trips.columns.difference(cdnsd.columns))\n",
    "rt_cols = ['trip_id'] + rt_cols\n",
    "\n",
    "cdnsd = cdnsd.merge(rider_trips[rt_cols], on='trip_id')"
   ]
  },
  {
   "cell_type": "code",
   "execution_count": 13,
   "metadata": {},
   "outputs": [],
   "source": [
    "rd_cols = list(rider_data.columns.difference(cdnsd.columns))\n",
    "rd_cols = ['rider_id'] + rd_cols\n",
    "\n",
    "cdnsd = cdnsd.merge(rider_data[rd_cols], on='rider_id')"
   ]
  },
  {
   "cell_type": "code",
   "execution_count": 14,
   "metadata": {},
   "outputs": [],
   "source": [
    "cdnsd['timestamp'] = cdnsd['request_time'].dt.floor('h')"
   ]
  },
  {
   "cell_type": "code",
   "execution_count": 15,
   "metadata": {},
   "outputs": [],
   "source": [
    "cm_cols = list(city_metrics.columns.difference(cdnsd.columns))\n",
    "cm_cols = ['timestamp'] + cm_cols\n",
    "\n",
    "cdnsd = cdnsd.merge(city_metrics[cm_cols], on='timestamp')"
   ]
  },
  {
   "cell_type": "code",
   "execution_count": 16,
   "metadata": {},
   "outputs": [],
   "source": [
    "rider = list(set(a for a in cdnsd['rider_id']))\n",
    "driver = list(set(a for a in cdnsd['driver_id']))"
   ]
  },
  {
   "cell_type": "code",
   "execution_count": 17,
   "metadata": {},
   "outputs": [],
   "source": [
    "riders = {}\n",
    "drivers = {}"
   ]
  },
  {
   "cell_type": "code",
   "execution_count": 18,
   "metadata": {},
   "outputs": [],
   "source": [
    "for i, r in enumerate(rider, 1):\n",
    "    riders[r] = i"
   ]
  },
  {
   "cell_type": "code",
   "execution_count": 19,
   "metadata": {},
   "outputs": [],
   "source": [
    "for i, r in enumerate(driver, 1):\n",
    "    drivers[r] = i"
   ]
  },
  {
   "cell_type": "code",
   "execution_count": 20,
   "metadata": {},
   "outputs": [],
   "source": [
    "cdnsd['rider'] = cdnsd.copy()['rider_id'].apply(lambda x: riders[x] if x in riders else 0)"
   ]
  },
  {
   "cell_type": "code",
   "execution_count": 21,
   "metadata": {},
   "outputs": [],
   "source": [
    "cdnsd['driver'] = cdnsd.copy()['driver_id'].apply(lambda x: drivers[x] if x in drivers else 0)"
   ]
  },
  {
   "cell_type": "code",
   "execution_count": 22,
   "metadata": {},
   "outputs": [],
   "source": [
    "tripstatus = list(set(a for a in cdnsd['trip_status']))"
   ]
  },
  {
   "cell_type": "code",
   "execution_count": 23,
   "metadata": {},
   "outputs": [],
   "source": [
    "tripstatus_dict = {'failed':0, 'completed':1, 'rider_canceled':2, 'unfulfilled':3}\n",
    "cdnsd['tripstatus'] = cdnsd['trip_status'].apply(lambda x: tripstatus_dict[x])"
   ]
  },
  {
   "cell_type": "code",
   "execution_count": 24,
   "metadata": {},
   "outputs": [],
   "source": [
    "original_col = list(cdnsd.columns.drop(['driver_id', 'rider_id', 'request_time', 'trip_id', 'trip_status', 'start_geo', 'end_geo', 'first_completed_trip', 'timestamp', 'driver payout', 'rider_payment', 'trip_price_pre_discount']))"
   ]
  },
  {
   "cell_type": "code",
   "execution_count": 25,
   "metadata": {
    "scrolled": true
   },
   "outputs": [],
   "source": [
    "# some features; \n",
    "cdnsd['time'] = cdnsd['request_time'].apply(lambda x: x.hour)\n",
    "cdnsd['weekday'] = cdnsd['request_time'].apply(lambda x: x.weekday())\n",
    "cdnsd['month'] = cdnsd['request_time'].apply(lambda x: x.month)\n",
    "cdnsd['day'] = cdnsd['timestamp'].apply(lambda x: x.day)\n",
    "cdnsd['weekend'] = cdnsd['weekday'].apply(lambda x: 1 if x > 4 else 0) # count friday as a weekend?\n",
    "\n",
    "# keep for now\n",
    "a = {0:'M', 1:'Tu', 2:'We', 3:'Th', 4:'F', 5:'Sa', 6:'Su'}\n",
    "aa = ['M', 'Tu', 'We', 'Th', 'F', 'Sa', 'Su']\n",
    "# cdnsd['weekday_1'] = cdnsd.copy()['weekday'].replace(a)\n",
    "\n",
    "# cdnsd['arrival_in_mins'] = np.array(cdnsd['actual_time_to_arrival']).astype(int)\n",
    "# cdnsd['pay_in_dollars'] = np.array(cdnsd['driver payout']).astype(int)\n",
    "\n",
    "# add feature - ranked_score of driver_lifetime rating; \n",
    "\n",
    "# performance metrics\n",
    "# cdnsd['fare/trip'] = cdnsd['lifetime_fares']/cdnsd['lifetime_completed_trips']\n",
    "cdnsd['arrival/eta'] =  cdnsd['estimated_time_to_arrival'] / cdnsd['actual_time_to_arrival']\n",
    "\n",
    "cdnsd['arrive_ontime'] = cdnsd['arrival/eta'].apply(lambda x: 1 if x<=1 else 0)"
   ]
  },
  {
   "cell_type": "code",
   "execution_count": 26,
   "metadata": {},
   "outputs": [],
   "source": [
    "locs = list(set([a for a in cdnsd.start_geo]))\n",
    "locs = sorted(locs)"
   ]
  },
  {
   "cell_type": "code",
   "execution_count": 27,
   "metadata": {},
   "outputs": [],
   "source": [
    "ref = {}\n",
    "for start in locs:\n",
    "    for end in locs:\n",
    "        r = start[0] + end[0]\n",
    "        ref[r] = [start, end]"
   ]
  },
  {
   "cell_type": "code",
   "execution_count": 28,
   "metadata": {},
   "outputs": [],
   "source": [
    "cdnsd['start_end'] = cdnsd[['start_geo', 'end_geo']].values.tolist()"
   ]
  },
  {
   "cell_type": "code",
   "execution_count": 29,
   "metadata": {},
   "outputs": [],
   "source": [
    "for k in ref.keys():\n",
    "    cdnsd[k] = cdnsd['start_end'].apply(lambda x: 1 if x==ref[k] else 0)"
   ]
  },
  {
   "cell_type": "markdown",
   "metadata": {},
   "source": [
    "#### 'Chelsea Court' to 'Chelsea Court' has half the observations\n",
    "- going by initials from this point forward; \n",
    "- 'Chelsea Court' to 'Chelsea Court' = 'CC'"
   ]
  },
  {
   "cell_type": "code",
   "execution_count": 30,
   "metadata": {},
   "outputs": [
    {
     "data": {
      "text/plain": [
       "CC    28325\n",
       "CA    5844 \n",
       "AC    5694 \n",
       "AA    3845 \n",
       "CB    2321 \n",
       "CD    2274 \n",
       "DC    2241 \n",
       "BC    2190 \n",
       "DD    1797 \n",
       "BB    1499 \n",
       "AD    340  \n",
       "DA    292  \n",
       "BA    283  \n",
       "AB    280  \n",
       "DB    192  \n",
       "BD    165  \n",
       "dtype: int64"
      ]
     },
     "execution_count": 30,
     "metadata": {},
     "output_type": "execute_result"
    }
   ],
   "source": [
    "destination = ['AA','AB','AC','AD','BA','BB','BC','BD','CA','CB','CC','CD','DA','DB','DC','DD']\n",
    "\n",
    "cdnsd.loc[:, destination].sum().sort_values(ascending=False)"
   ]
  },
  {
   "cell_type": "markdown",
   "metadata": {},
   "source": [
    "#### find trips where trip_price_pre_discount is different from rider_payment"
   ]
  },
  {
   "cell_type": "code",
   "execution_count": 31,
   "metadata": {},
   "outputs": [],
   "source": [
    "cdnsd['discount'] = cdnsd['trip_price_pre_discount'] - cdnsd['rider_payment']"
   ]
  },
  {
   "cell_type": "code",
   "execution_count": 32,
   "metadata": {},
   "outputs": [],
   "source": [
    "cdnsd['discount_trip'] = cdnsd['discount'].apply(lambda x: 1 if x!=0 else 0)"
   ]
  },
  {
   "cell_type": "code",
   "execution_count": 33,
   "metadata": {},
   "outputs": [],
   "source": [
    "night = [0, 1, 2, 21, 22, 23]\n",
    "morning = [3, 4, 5, 6, 7, 8]\n",
    "midday = [9, 10, 11, 12, 13, 14]\n",
    "evening = [15, 16, 17, 18, 19, 20]\n",
    "\n",
    "day = {'morning':morning, 'midday':midday, 'evening':evening, 'night':night}"
   ]
  },
  {
   "cell_type": "code",
   "execution_count": 34,
   "metadata": {},
   "outputs": [],
   "source": [
    "for d in day.keys():\n",
    "    cdnsd[d] = cdnsd['time'].apply(lambda x: 1 if x in day[d] else 0)"
   ]
  },
  {
   "cell_type": "code",
   "execution_count": 35,
   "metadata": {},
   "outputs": [],
   "source": [
    "cdnsd['surge_difference'] = cdnsd['surge_multiplier'] - cdnsd['mean_surge_multipler']"
   ]
  },
  {
   "cell_type": "markdown",
   "metadata": {},
   "source": [
    "#### trips where surge is greater than mean_surge"
   ]
  },
  {
   "cell_type": "code",
   "execution_count": 36,
   "metadata": {},
   "outputs": [],
   "source": [
    "cdnsd['surge_diff'] = cdnsd['surge_difference'].apply(lambda x: 1 if x >=0 else 0)"
   ]
  },
  {
   "cell_type": "code",
   "execution_count": 37,
   "metadata": {},
   "outputs": [],
   "source": [
    "# mean_surge_multipler mean of entire surge (?)\n",
    "cdnsd.groupby(['month', 'day', 'time']).get_group((4, 9, 6))[['request_time', 'timestamp', 'start_end', 'mean_surge_multipler']];"
   ]
  },
  {
   "cell_type": "code",
   "execution_count": 38,
   "metadata": {},
   "outputs": [
    {
     "name": "stdout",
     "output_type": "stream",
     "text": [
      "1.3689655172413793\n",
      "1.21892755681818\n"
     ]
    }
   ],
   "source": [
    "# mean of surge_multiplier - grouped by month, day, time - does not equal mean_surge_mutlipler\n",
    "print(cdnsd.groupby(['month', 'day', 'time']).get_group((4, 9, 6))['surge_multiplier'].mean())\n",
    "print(cdnsd.groupby(['month', 'day', 'time']).get_group((4,9,6))['mean_surge_multipler'][0])"
   ]
  },
  {
   "cell_type": "code",
   "execution_count": 39,
   "metadata": {},
   "outputs": [],
   "source": [
    "d = {}\n",
    "for start in locs:\n",
    "    for end in locs:\n",
    "        drive = start[0] + end[0]\n",
    "        d[drive] = cdnsd.groupby(['start_geo', 'end_geo']).get_group((start, end))"
   ]
  },
  {
   "cell_type": "code",
   "execution_count": 40,
   "metadata": {},
   "outputs": [],
   "source": [
    "destination = ['AA','AB','AC','AD','BA','BB','BC','BD','CA','CB','CC','CD','DA','DB','DC','DD']\n",
    "df = pd.DataFrame()\n",
    "\n",
    "for i, v in enumerate(destination, 1):\n",
    "    temp = cdnsd[v].apply(lambda x: i if x==1 else float('nan'))\n",
    "    df = pd.concat([df, temp], axis=1)\n",
    "\n",
    "    \n",
    "cdnsd['loc'] = df.stack().values"
   ]
  },
  {
   "cell_type": "code",
   "execution_count": 41,
   "metadata": {},
   "outputs": [],
   "source": [
    "day_1 = ['morning', 'midday', 'evening', 'night']\n",
    "df = pd.DataFrame()\n",
    "\n",
    "for i, v in enumerate(day_1, 1):\n",
    "    temp = cdnsd[v].apply(lambda x: i if x==1 else float('nan'))\n",
    "    df = pd.concat([df, temp], axis=1)\n",
    "    \n",
    "cdnsd['time_of_day'] = df.stack().values"
   ]
  },
  {
   "cell_type": "code",
   "execution_count": 42,
   "metadata": {
    "scrolled": true
   },
   "outputs": [],
   "source": [
    "cdnsd['avg_surge_diff'] = cdnsd.index\n",
    "cdnsd.loc[:, 'avg_surge_diff'] = cdnsd.groupby(['weekday', 'time'])['surge_multiplier'].apply(lambda x: x-x.mean())"
   ]
  },
  {
   "cell_type": "code",
   "execution_count": 43,
   "metadata": {},
   "outputs": [],
   "source": [
    "# metric to use\n",
    "# can't use estimated time if destination changes, etc\n",
    "# use 'rider_payment' instead of 'driver payout' - very high correlation, \n",
    "cdnsd['pay/time'] = cdnsd['rider_payment'] / cdnsd['actual_time_to_arrival']"
   ]
  },
  {
   "cell_type": "code",
   "execution_count": 44,
   "metadata": {
    "scrolled": true
   },
   "outputs": [],
   "source": [
    "# cdnsd['avg_pay_diff'] = cdnsd.groupby(['weekday', 'time'])['driver payout'].apply(lambda x: x-x.mean())"
   ]
  },
  {
   "cell_type": "code",
   "execution_count": 45,
   "metadata": {},
   "outputs": [],
   "source": [
    "\n",
    "df = cdnsd.copy()[cdnsd['trip_price_pre_discount']<50]"
   ]
  },
  {
   "cell_type": "code",
   "execution_count": 127,
   "metadata": {},
   "outputs": [],
   "source": [
    "def price_mapper(price):\n",
    "    if price < 5:\n",
    "        return 1\n",
    "    elif price < 10:\n",
    "        return 2\n",
    "    elif price < 15:\n",
    "        return 3\n",
    "    elif price < 20:\n",
    "        return 4\n",
    "    else:\n",
    "        return 5"
   ]
  },
  {
   "cell_type": "code",
   "execution_count": 147,
   "metadata": {},
   "outputs": [],
   "source": [
    "df['pay/time_bin'] = df['pay/time'].apply(lambda x: price_mapper(x))"
   ]
  },
  {
   "cell_type": "code",
   "execution_count": 151,
   "metadata": {},
   "outputs": [],
   "source": [
    "df['price_bin'] = df['trip_price_pre_discount'].apply(lambda x: price_mapper(x))"
   ]
  },
  {
   "cell_type": "code",
   "execution_count": 161,
   "metadata": {},
   "outputs": [],
   "source": [
    "# col_1 = ['driver payout', 'rider_payment', 'trip_price_pre_discount', 'surge_multiplier', 'mean_surge_multipler', 'lifetime_rating', 'request_time', 'estimated_time_to_arrival', 'actual_time_to_arrival','supply_hours', 'start_geo', 'end_geo']\n",
    "\n",
    "# features (maybe add eta feature)\n",
    "# col_f = ['loc', 'discount_trip', 'weekend', 'time_of_day', 'surge_diff', 'surge_multiplier',  'arrive_ontime', 'actual_time_to_arrival']\n",
    "col_f = ['driver', 'lifetime_fares', 'lifetime_rating', 'tripstatus', 'rider', 'loc', 'CC', 'BD', 'DB', 'weekday', 'time', 'requests', 'actual_time_to_arrival', 'arrive_ontime', 'discount', 'avg_surge_diff', 'price_bin']\n",
    "\n",
    "# metric (one at a time?)\n",
    "col_m = 'pay/time'"
   ]
  },
  {
   "cell_type": "code",
   "execution_count": 162,
   "metadata": {
    "scrolled": true
   },
   "outputs": [],
   "source": [
    "col_f.append(col_m)"
   ]
  },
  {
   "cell_type": "code",
   "execution_count": 163,
   "metadata": {
    "scrolled": true
   },
   "outputs": [],
   "source": [
    "test = df[col_f].dropna()"
   ]
  },
  {
   "cell_type": "code",
   "execution_count": 164,
   "metadata": {
    "scrolled": false
   },
   "outputs": [
    {
     "data": {
      "text/plain": [
       "<matplotlib.axes._subplots.AxesSubplot at 0x26d04fcd908>"
      ]
     },
     "execution_count": 164,
     "metadata": {},
     "output_type": "execute_result"
    },
    {
     "data": {
      "image/png": "[encoded data removed]",
      "text/plain": [
       "<matplotlib.figure.Figure at 0x26d04f26d30>"
      ]
     },
     "metadata": {},
     "output_type": "display_data"
    }
   ],
   "source": [
    "sns.heatmap(test.corr())"
   ]
  },
  {
   "cell_type": "code",
   "execution_count": 165,
   "metadata": {
    "scrolled": true
   },
   "outputs": [
    {
     "data": {
      "text/plain": [
       "90.55316161990368"
      ]
     },
     "execution_count": 165,
     "metadata": {},
     "output_type": "execute_result"
    }
   ],
   "source": [
    "percentileofscore(test['pay/time'], 25)"
   ]
  },
  {
   "cell_type": "code",
   "execution_count": 166,
   "metadata": {
    "scrolled": true
   },
   "outputs": [],
   "source": [
    "test_1 = test.copy()[test['pay/time']<=25]"
   ]
  },
  {
   "cell_type": "code",
   "execution_count": 167,
   "metadata": {},
   "outputs": [
    {
     "data": {
      "text/plain": [
       "<matplotlib.axes._subplots.AxesSubplot at 0x26d0466ff60>"
      ]
     },
     "execution_count": 167,
     "metadata": {},
     "output_type": "execute_result"
    },
    {
     "data": {
      "image/png": "[encoded data removed]",
      "text/plain": [
       "<matplotlib.figure.Figure at 0x26d045eff60>"
      ]
     },
     "metadata": {},
     "output_type": "display_data"
    }
   ],
   "source": [
    "sns.heatmap(test_1.corr())"
   ]
  },
  {
   "cell_type": "code",
   "execution_count": 168,
   "metadata": {},
   "outputs": [],
   "source": [
    "lg = LinearRegression()\n",
    "dt = DecisionTreeRegressor()\n",
    "rf = RandomForestRegressor()\n",
    "gnb = GaussianNB()"
   ]
  },
  {
   "cell_type": "code",
   "execution_count": 169,
   "metadata": {},
   "outputs": [],
   "source": [
    "def regressions(df, model):\n",
    "    X = df.iloc[:, :-1]\n",
    "    y = df.iloc[:, -1:]\n",
    "    \n",
    "    X_train, X_test, y_train, y_test = train_test_split(X, y)\n",
    "    \n",
    "    if model == 'all':\n",
    "        lg.fit(X_train, y_train)\n",
    "        dt.fit(X_train, y_train)\n",
    "        rf.fit(X_train, y_train.iloc[:, 0])\n",
    "        x = (X_train.shape, X_test.shape, lg.score(X_test, y_test), dt.score(X_test, y_test), rf.score(X_test, y_test))\n",
    "\n",
    "    else:    \n",
    "        model.fit(X_train, y_train.iloc[:, 0])\n",
    "        x = (X_train.shape, X_test.shape, model.score(X_test, y_test))\n",
    "    \n",
    "    return x"
   ]
  },
  {
   "cell_type": "code",
   "execution_count": 170,
   "metadata": {},
   "outputs": [
    {
     "data": {
      "text/plain": [
       "((38465, 17),\n",
       " (12822, 17),\n",
       " 0.08296720480825526,\n",
       " 0.9458173470410665,\n",
       " 0.9614975358477931)"
      ]
     },
     "execution_count": 170,
     "metadata": {},
     "output_type": "execute_result"
    }
   ],
   "source": [
    "regressions(test, 'all')"
   ]
  },
  {
   "cell_type": "code",
   "execution_count": 171,
   "metadata": {},
   "outputs": [
    {
     "data": {
      "text/plain": [
       "((34831, 17),\n",
       " (11611, 17),\n",
       " 0.4821429308475507,\n",
       " 0.9108089027244154,\n",
       " 0.9466827234052078)"
      ]
     },
     "execution_count": 171,
     "metadata": {},
     "output_type": "execute_result"
    }
   ],
   "source": [
    "regressions(test_1, 'all')"
   ]
  },
  {
   "cell_type": "code",
   "execution_count": 172,
   "metadata": {},
   "outputs": [],
   "source": [
    "if col_m not in original_col:\n",
    "    original_col.append(col_m)"
   ]
  },
  {
   "cell_type": "code",
   "execution_count": 173,
   "metadata": {
    "scrolled": true
   },
   "outputs": [],
   "source": [
    "df_o = df.copy()[original_col].dropna()"
   ]
  },
  {
   "cell_type": "code",
   "execution_count": 174,
   "metadata": {},
   "outputs": [],
   "source": [
    "df_orig = df_o[df_o['pay/time']<=25]"
   ]
  },
  {
   "cell_type": "code",
   "execution_count": 175,
   "metadata": {},
   "outputs": [
    {
     "data": {
      "text/plain": [
       "((38446, 16),\n",
       " (12816, 16),\n",
       " 0.10501320821082182,\n",
       " 0.6608619498045335,\n",
       " 0.815073144342409)"
      ]
     },
     "execution_count": 175,
     "metadata": {},
     "output_type": "execute_result"
    }
   ],
   "source": [
    "regressions(df_o, 'all')"
   ]
  },
  {
   "cell_type": "code",
   "execution_count": 176,
   "metadata": {},
   "outputs": [
    {
     "data": {
      "text/plain": [
       "((34812, 16),\n",
       " (11605, 16),\n",
       " 0.4153367413133942,\n",
       " 0.5709314918398674,\n",
       " 0.7528385537227784)"
      ]
     },
     "execution_count": 176,
     "metadata": {},
     "output_type": "execute_result"
    }
   ],
   "source": [
    "regressions(df_orig, 'all')"
   ]
  },
  {
   "cell_type": "code",
   "execution_count": 177,
   "metadata": {},
   "outputs": [],
   "source": [
    "X_1 = df.drop(['trip_price_pre_discount', 'start_end', 'trip_status', 'request_time', 'first_completed_trip', 'driver payout', 'rider_payment', 'timestamp', 'start_geo', 'end_geo', 'trip_id', 'weekday', 'driver_id', 'rider_id'], axis=1)"
   ]
  },
  {
   "cell_type": "code",
   "execution_count": 178,
   "metadata": {},
   "outputs": [],
   "source": [
    "X_1.dropna(inplace=True)"
   ]
  },
  {
   "cell_type": "code",
   "execution_count": 179,
   "metadata": {},
   "outputs": [],
   "source": [
    "X_11 = X_1[X_1['pay/time']<=25]"
   ]
  },
  {
   "cell_type": "code",
   "execution_count": 180,
   "metadata": {},
   "outputs": [],
   "source": [
    "X_2 = X_1.drop(original_col, axis=1)"
   ]
  },
  {
   "cell_type": "code",
   "execution_count": 181,
   "metadata": {},
   "outputs": [],
   "source": [
    "X_2['driver'] = X_1.copy()['driver']\n",
    "X_2['rider'] = X_1.copy()['rider']\n",
    "X_2['pay/time'] = X_1.copy()['pay/time']"
   ]
  },
  {
   "cell_type": "code",
   "execution_count": 182,
   "metadata": {},
   "outputs": [],
   "source": [
    "X_22 = X_2[X_2['pay/time']<=25]"
   ]
  },
  {
   "cell_type": "code",
   "execution_count": 183,
   "metadata": {},
   "outputs": [
    {
     "data": {
      "text/plain": [
       "((38446, 52),\n",
       " (12816, 52),\n",
       " 0.5008225682801667,\n",
       " 0.8833657923954787,\n",
       " 0.9388763855772556)"
      ]
     },
     "execution_count": 183,
     "metadata": {},
     "output_type": "execute_result"
    }
   ],
   "source": [
    "# \"X1\" contains all features/variables that can be used\n",
    "regressions(X_1, 'all')"
   ]
  },
  {
   "cell_type": "code",
   "execution_count": 184,
   "metadata": {},
   "outputs": [
    {
     "data": {
      "text/plain": [
       "((34812, 52),\n",
       " (11605, 52),\n",
       " 0.5250198718032674,\n",
       " 0.9141595737646367,\n",
       " 0.9541028653390315)"
      ]
     },
     "execution_count": 184,
     "metadata": {},
     "output_type": "execute_result"
    }
   ],
   "source": [
    "# \"X11\" contains all features/variables that can be used\n",
    "regressions(X_11, 'all')"
   ]
  },
  {
   "cell_type": "code",
   "execution_count": 185,
   "metadata": {},
   "outputs": [
    {
     "data": {
      "text/plain": [
       "((38446, 38),\n",
       " (12816, 38),\n",
       " 0.4379449282346749,\n",
       " 0.8208143699018768,\n",
       " 0.8889273118619581)"
      ]
     },
     "execution_count": 185,
     "metadata": {},
     "output_type": "execute_result"
    }
   ],
   "source": [
    "# \"X2\" = \"X1\" - \"original_col\" ( + variables/features that are needed)\n",
    "regressions(X_2, 'all')"
   ]
  },
  {
   "cell_type": "code",
   "execution_count": 186,
   "metadata": {},
   "outputs": [
    {
     "data": {
      "text/plain": [
       "((34812, 38),\n",
       " (11605, 38),\n",
       " 0.9231726903724513,\n",
       " 0.8912451262095077,\n",
       " 0.9374177576029279)"
      ]
     },
     "execution_count": 186,
     "metadata": {},
     "output_type": "execute_result"
    }
   ],
   "source": [
    "# \"X2\" = \"X1\" - \"original_col\" ( + variables/features that are needed)\n",
    "regressions(X_22, 'all')"
   ]
  },
  {
   "cell_type": "code",
   "execution_count": null,
   "metadata": {},
   "outputs": [],
   "source": []
  },
  {
   "cell_type": "code",
   "execution_count": null,
   "metadata": {},
   "outputs": [],
   "source": []
  },
  {
   "cell_type": "code",
   "execution_count": null,
   "metadata": {},
   "outputs": [],
   "source": []
  },
  {
   "cell_type": "code",
   "execution_count": null,
   "metadata": {},
   "outputs": [],
   "source": []
  },
  {
   "cell_type": "code",
   "execution_count": null,
   "metadata": {},
   "outputs": [],
   "source": []
  },
  {
   "cell_type": "code",
   "execution_count": 188,
   "metadata": {
    "scrolled": true
   },
   "outputs": [],
   "source": [
    "X_2 = X_2.drop( ['fare/trip', 'discount_trip'], axis=1)"
   ]
  },
  {
   "cell_type": "code",
   "execution_count": null,
   "metadata": {},
   "outputs": [],
   "source": []
  },
  {
   "cell_type": "code",
   "execution_count": 191,
   "metadata": {},
   "outputs": [],
   "source": [
    "from sklearn.decomposition import PCA"
   ]
  },
  {
   "cell_type": "code",
   "execution_count": 192,
   "metadata": {},
   "outputs": [],
   "source": [
    "pca = PCA(n_components=52)"
   ]
  },
  {
   "cell_type": "code",
   "execution_count": 194,
   "metadata": {},
   "outputs": [],
   "source": [
    "X_111 = X_11.iloc[:, :-1]\n",
    "y_111 = X_11.iloc[:, -1:]"
   ]
  },
  {
   "cell_type": "code",
   "execution_count": 195,
   "metadata": {},
   "outputs": [],
   "source": [
    "X_train, X_test, y_train, y_test = train_test_split(X_111, y_111)"
   ]
  },
  {
   "cell_type": "code",
   "execution_count": 210,
   "metadata": {},
   "outputs": [
    {
     "data": {
      "text/plain": [
       "PCA(copy=True, iterated_power='auto', n_components=52, random_state=None,\n",
       "  svd_solver='auto', tol=0.0, whiten=False)"
      ]
     },
     "execution_count": 210,
     "metadata": {},
     "output_type": "execute_result"
    }
   ],
   "source": [
    "pca.fit(X_111)"
   ]
  },
  {
   "cell_type": "code",
   "execution_count": 211,
   "metadata": {},
   "outputs": [],
   "source": [
    "pcs = pca.fit_transform(X_train)"
   ]
  },
  {
   "cell_type": "code",
   "execution_count": 206,
   "metadata": {},
   "outputs": [
    {
     "data": {
      "text/plain": [
       "array([[ 5.72064604e+00,  1.27586228e-01, -3.64549009e+02, ...,\n",
       "         8.92355942e-02, -5.65525820e+00, -9.24613354e-01],\n",
       "       [ 1.27586228e-01,  1.15564753e-01,  1.67049156e+01, ...,\n",
       "         9.65157100e-02,  7.24218670e-02,  1.01109328e-02],\n",
       "       [-3.64549009e+02,  1.67049156e+01,  1.22683767e+07, ...,\n",
       "         1.31587340e+01,  8.12466377e+02,  1.35265147e+02],\n",
       "       ...,\n",
       "       [ 8.92355942e-02,  9.65157100e-02,  1.31587340e+01, ...,\n",
       "         9.65994110e-02,  7.08796122e-02,  1.05320218e-02],\n",
       "       [-5.65525820e+00,  7.24218670e-02,  8.12466377e+02, ...,\n",
       "         7.08796122e-02,  1.78714945e+01,  3.28133554e+00],\n",
       "       [-9.24613354e-01,  1.01109328e-02,  1.35265147e+02, ...,\n",
       "         1.05320218e-02,  3.28133554e+00,  6.63518916e-01]])"
      ]
     },
     "execution_count": 206,
     "metadata": {},
     "output_type": "execute_result"
    }
   ],
   "source": [
    "pca.get_covariance()"
   ]
  },
  {
   "cell_type": "code",
   "execution_count": 208,
   "metadata": {},
   "outputs": [
    {
     "data": {
      "text/plain": [
       "array([8.90779623e-01, 8.83005740e-02, 1.31954306e-02, 6.58099116e-03,\n",
       "       1.12903304e-03, 8.64476253e-06, 2.97221271e-06, 2.58803377e-06,\n",
       "       5.27828303e-08, 2.97903494e-08, 2.30097351e-08, 1.27939184e-08,\n",
       "       8.99624096e-09, 5.86085691e-09, 4.66616571e-09, 1.89756667e-09,\n",
       "       1.52931197e-09, 4.96382653e-10, 2.55145387e-10, 1.52299983e-10,\n",
       "       1.31480197e-10, 1.08693162e-10, 9.01135201e-11, 6.59345455e-11,\n",
       "       4.42148939e-11, 3.79260222e-11, 3.56992785e-11, 3.20422103e-11,\n",
       "       2.71306701e-11, 2.37964790e-11, 2.13566092e-11, 1.82968160e-11,\n",
       "       1.71027108e-11, 1.59960247e-11, 1.29037857e-11, 1.10839632e-11,\n",
       "       1.01092245e-11, 7.87785671e-12, 5.25078849e-12, 4.53712247e-12,\n",
       "       3.75861431e-12, 2.62331340e-12, 2.44718920e-12, 2.31374599e-12,\n",
       "       2.27522716e-12, 1.75931106e-12, 1.27616352e-12, 8.69642227e-33,\n",
       "       8.69642227e-33, 8.69642227e-33, 8.69642227e-33, 8.69202129e-33])"
      ]
     },
     "execution_count": 208,
     "metadata": {},
     "output_type": "execute_result"
    }
   ],
   "source": [
    "pca.explained_variance_ratio_"
   ]
  },
  {
   "cell_type": "code",
   "execution_count": 209,
   "metadata": {},
   "outputs": [
    {
     "data": {
      "text/plain": [
       "array([[-1.45384194e-06, -1.33861603e-07,  6.69183460e-02, ...,\n",
       "        -1.48294593e-07,  1.01784265e-05,  1.79723209e-06],\n",
       "       [-1.40543900e-08, -1.44025305e-08,  9.79214472e-04, ...,\n",
       "        -6.19565379e-08,  4.68858265e-07,  5.94817439e-10],\n",
       "       [-2.13713333e-06,  2.86172297e-07, -1.22816504e-03, ...,\n",
       "         2.77410405e-07, -9.83294537e-07, -3.81315706e-07],\n",
       "       ...,\n",
       "       [ 0.00000000e+00,  6.70089170e-05,  2.44576139e-19, ...,\n",
       "         5.44467485e-17,  3.13910410e-17, -6.10846280e-17],\n",
       "       [ 0.00000000e+00,  1.27065345e-05,  7.53259626e-20, ...,\n",
       "        -1.16252599e-16,  1.72286501e-17,  4.62562575e-17],\n",
       "       [ 0.00000000e+00, -5.77350262e-01, -1.52028799e-15, ...,\n",
       "        -7.57638223e-12, -1.73022707e-12, -1.61952396e-12]])"
      ]
     },
     "execution_count": 209,
     "metadata": {},
     "output_type": "execute_result"
    }
   ],
   "source": [
    "pca.components_"
   ]
  },
  {
   "cell_type": "code",
   "execution_count": null,
   "metadata": {},
   "outputs": [],
   "source": []
  },
  {
   "cell_type": "code",
   "execution_count": null,
   "metadata": {},
   "outputs": [],
   "source": []
  },
  {
   "cell_type": "code",
   "execution_count": null,
   "metadata": {},
   "outputs": [],
   "source": []
  },
  {
   "cell_type": "code",
   "execution_count": null,
   "metadata": {},
   "outputs": [],
   "source": []
  },
  {
   "cell_type": "code",
   "execution_count": null,
   "metadata": {},
   "outputs": [],
   "source": []
  },
  {
   "cell_type": "code",
   "execution_count": null,
   "metadata": {},
   "outputs": [],
   "source": []
  },
  {
   "cell_type": "code",
   "execution_count": null,
   "metadata": {},
   "outputs": [],
   "source": []
  },
  {
   "cell_type": "code",
   "execution_count": 145,
   "metadata": {},
   "outputs": [
    {
     "data": {
      "text/plain": [
       "['rider_canceled', 'failed', 'completed', 'unfulfilled']"
      ]
     },
     "execution_count": 145,
     "metadata": {},
     "output_type": "execute_result"
    }
   ],
   "source": [
    "list(set(a for a in df['trip_status']))"
   ]
  },
  {
   "cell_type": "code",
   "execution_count": 142,
   "metadata": {
    "collapsed": true
   },
   "outputs": [
    {
     "data": {
      "text/plain": [
       "0        Chelsea Court\n",
       "1        Chelsea Court\n",
       "2        Chelsea Court\n",
       "3        Chelsea Court\n",
       "4        Chelsea Court\n",
       "5        Chelsea Court\n",
       "6        Allen Abby   \n",
       "7        Chelsea Court\n",
       "8        Chelsea Court\n",
       "9        Blair Bend   \n",
       "10       Blair Bend   \n",
       "11       Chelsea Court\n",
       "12       Chelsea Court\n",
       "13       Chelsea Court\n",
       "14       Chelsea Court\n",
       "15       Chelsea Court\n",
       "16       Blair Bend   \n",
       "17       Allen Abby   \n",
       "18       Chelsea Court\n",
       "19       Allen Abby   \n",
       "20       Chelsea Court\n",
       "21       Chelsea Court\n",
       "22       Chelsea Court\n",
       "23       Chelsea Court\n",
       "24       Chelsea Court\n",
       "25       Daisy Drive  \n",
       "26       Chelsea Court\n",
       "27       Chelsea Court\n",
       "28       Chelsea Court\n",
       "29       Chelsea Court\n",
       "             ...      \n",
       "57552    Chelsea Court\n",
       "57553    Chelsea Court\n",
       "57554    Chelsea Court\n",
       "57555    Chelsea Court\n",
       "57556    Chelsea Court\n",
       "57557    Chelsea Court\n",
       "57558    Chelsea Court\n",
       "57559    Chelsea Court\n",
       "57560    Allen Abby   \n",
       "57561    Chelsea Court\n",
       "57562    Chelsea Court\n",
       "57563    Chelsea Court\n",
       "57564    Chelsea Court\n",
       "57565    Allen Abby   \n",
       "57566    Allen Abby   \n",
       "57567    Chelsea Court\n",
       "57568    Daisy Drive  \n",
       "57569    Chelsea Court\n",
       "57570    Chelsea Court\n",
       "57571    Chelsea Court\n",
       "57572    Blair Bend   \n",
       "57573    Chelsea Court\n",
       "57574    Daisy Drive  \n",
       "57575    Chelsea Court\n",
       "57576    Chelsea Court\n",
       "57577    Chelsea Court\n",
       "57578    Chelsea Court\n",
       "57579    Allen Abby   \n",
       "57580    Chelsea Court\n",
       "57581    Chelsea Court\n",
       "Name: end_geo, Length: 57484, dtype: object"
      ]
     },
     "execution_count": 142,
     "metadata": {},
     "output_type": "execute_result"
    }
   ],
   "source": [
    "df['new_geo'] = df['end_geo'].apply(lambda x: x)"
   ]
  },
  {
   "cell_type": "code",
   "execution_count": null,
   "metadata": {},
   "outputs": [],
   "source": [
    "# can drivers reject trips\n",
    "# how to set it where new start_geo, "
   ]
  },
  {
   "cell_type": "code",
   "execution_count": null,
   "metadata": {},
   "outputs": [],
   "source": []
  },
  {
   "cell_type": "code",
   "execution_count": null,
   "metadata": {},
   "outputs": [],
   "source": []
  },
  {
   "cell_type": "code",
   "execution_count": null,
   "metadata": {},
   "outputs": [],
   "source": []
  },
  {
   "cell_type": "code",
   "execution_count": null,
   "metadata": {},
   "outputs": [],
   "source": []
  },
  {
   "cell_type": "code",
   "execution_count": 128,
   "metadata": {},
   "outputs": [],
   "source": [
    "cdnsd['price_bin'] = cdnsd['trip_price_pre_discount'].apply(lambda x: price_mapper(x))"
   ]
  },
  {
   "cell_type": "code",
   "execution_count": 129,
   "metadata": {},
   "outputs": [
    {
     "data": {
      "text/plain": [
       "price_bin\n",
       "1    1.153671\n",
       "2    1.112213\n",
       "3    1.351656\n",
       "4    1.402049\n",
       "5    1.267046\n",
       "Name: surge_multiplier, dtype: float64"
      ]
     },
     "execution_count": 129,
     "metadata": {},
     "output_type": "execute_result"
    }
   ],
   "source": [
    "cdnsd.groupby('price_bin')['surge_multiplier'].mean()"
   ]
  },
  {
   "cell_type": "code",
   "execution_count": 131,
   "metadata": {
    "scrolled": true
   },
   "outputs": [
    {
     "data": {
      "text/plain": [
       "arrive_ontime\n",
       "0    7.663415\n",
       "1    7.717965\n",
       "Name: trip_price_pre_discount, dtype: float64"
      ]
     },
     "execution_count": 131,
     "metadata": {},
     "output_type": "execute_result"
    }
   ],
   "source": [
    "cdnsd.groupby('arrive_ontime')['trip_price_pre_discount'].mean()"
   ]
  },
  {
   "cell_type": "code",
   "execution_count": 132,
   "metadata": {},
   "outputs": [
    {
     "data": {
      "text/plain": [
       "<matplotlib.axes._subplots.AxesSubplot at 0x26d065ab9b0>"
      ]
     },
     "execution_count": 132,
     "metadata": {},
     "output_type": "execute_result"
    },
    {
     "data": {
      "image/png": "[encoded data removed]",
      "text/plain": [
       "<matplotlib.figure.Figure at 0x26d068a7940>"
      ]
     },
     "metadata": {},
     "output_type": "display_data"
    }
   ],
   "source": [
    "sns.violinplot(x='arrive_ontime', y='trip_price_pre_discount', data=cdnsd)"
   ]
  },
  {
   "cell_type": "code",
   "execution_count": 133,
   "metadata": {},
   "outputs": [
    {
     "data": {
      "image/png": "[encoded data removed]",
      "text/plain": [
       "<matplotlib.figure.Figure at 0x26d06678630>"
      ]
     },
     "metadata": {},
     "output_type": "display_data"
    }
   ],
   "source": [
    "plt.hist(cdnsd['trip_price_pre_discount'], bins=np.linspace(0, 200, 50))\n",
    "plt.show()"
   ]
  },
  {
   "cell_type": "code",
   "execution_count": 134,
   "metadata": {},
   "outputs": [
    {
     "data": {
      "text/plain": [
       "<matplotlib.axes._subplots.AxesSubplot at 0x26d0676d128>"
      ]
     },
     "execution_count": 134,
     "metadata": {},
     "output_type": "execute_result"
    },
    {
     "data": {
      "image/png": "[encoded data removed]",
      "text/plain": [
       "<matplotlib.figure.Figure at 0x26d06681d68>"
      ]
     },
     "metadata": {},
     "output_type": "display_data"
    }
   ],
   "source": [
    "sns.violinplot(x='arrive_ontime', y='trip_price_pre_discount', data=df)"
   ]
  },
  {
   "cell_type": "code",
   "execution_count": 135,
   "metadata": {},
   "outputs": [
    {
     "data": {
      "text/plain": [
       "arrive_ontime\n",
       "0    7.529666\n",
       "1    7.705825\n",
       "Name: trip_price_pre_discount, dtype: float64"
      ]
     },
     "execution_count": 135,
     "metadata": {},
     "output_type": "execute_result"
    }
   ],
   "source": [
    "df.groupby('arrive_ontime')['trip_price_pre_discount'].mean()"
   ]
  },
  {
   "cell_type": "code",
   "execution_count": 136,
   "metadata": {},
   "outputs": [
    {
     "data": {
      "text/plain": [
       "arrive_ontime\n",
       "0    7.529666\n",
       "1    7.705825\n",
       "Name: trip_price_pre_discount, dtype: float64"
      ]
     },
     "execution_count": 136,
     "metadata": {},
     "output_type": "execute_result"
    }
   ],
   "source": [
    "df.groupby('arrive_ontime')['trip_price_pre_discount'].mean()"
   ]
  },
  {
   "cell_type": "code",
   "execution_count": null,
   "metadata": {},
   "outputs": [],
   "source": []
  },
  {
   "cell_type": "code",
   "execution_count": null,
   "metadata": {},
   "outputs": [],
   "source": []
  },
  {
   "cell_type": "code",
   "execution_count": 137,
   "metadata": {},
   "outputs": [],
   "source": [
    "col2 = ['actual_time_to_arrival', 'arrive_ontime', 'surge_diff']\n",
    "\n",
    "X_0 = df[['loc','surge_multiplier', 'surge_diff', 'arrive_ontime', 'actual_time_to_arrival']]\n",
    "y_0 = df.trip_price_pre_discount"
   ]
  },
  {
   "cell_type": "code",
   "execution_count": null,
   "metadata": {},
   "outputs": [],
   "source": []
  },
  {
   "cell_type": "code",
   "execution_count": null,
   "metadata": {},
   "outputs": [],
   "source": []
  },
  {
   "cell_type": "code",
   "execution_count": null,
   "metadata": {},
   "outputs": [],
   "source": []
  },
  {
   "cell_type": "code",
   "execution_count": null,
   "metadata": {},
   "outputs": [],
   "source": [
    "abs(y_predict - y_test).mean()"
   ]
  },
  {
   "cell_type": "code",
   "execution_count": null,
   "metadata": {},
   "outputs": [],
   "source": [
    "# plt.scatter(y_test, y_predict-y_test)"
   ]
  },
  {
   "cell_type": "code",
   "execution_count": null,
   "metadata": {},
   "outputs": [],
   "source": []
  },
  {
   "cell_type": "code",
   "execution_count": null,
   "metadata": {},
   "outputs": [],
   "source": []
  },
  {
   "cell_type": "code",
   "execution_count": null,
   "metadata": {},
   "outputs": [],
   "source": []
  },
  {
   "cell_type": "code",
   "execution_count": null,
   "metadata": {},
   "outputs": [],
   "source": []
  },
  {
   "cell_type": "code",
   "execution_count": null,
   "metadata": {},
   "outputs": [],
   "source": []
  },
  {
   "cell_type": "markdown",
   "metadata": {},
   "source": [
    "#### average price per location"
   ]
  },
  {
   "cell_type": "code",
   "execution_count": null,
   "metadata": {},
   "outputs": [],
   "source": []
  },
  {
   "cell_type": "code",
   "execution_count": null,
   "metadata": {},
   "outputs": [],
   "source": []
  },
  {
   "cell_type": "code",
   "execution_count": null,
   "metadata": {},
   "outputs": [],
   "source": []
  },
  {
   "cell_type": "code",
   "execution_count": null,
   "metadata": {},
   "outputs": [],
   "source": []
  },
  {
   "cell_type": "code",
   "execution_count": null,
   "metadata": {},
   "outputs": [],
   "source": []
  },
  {
   "cell_type": "code",
   "execution_count": null,
   "metadata": {},
   "outputs": [],
   "source": [
    "gnb = GaussianNB()"
   ]
  },
  {
   "cell_type": "code",
   "execution_count": null,
   "metadata": {},
   "outputs": [],
   "source": []
  },
  {
   "cell_type": "code",
   "execution_count": null,
   "metadata": {},
   "outputs": [],
   "source": []
  },
  {
   "cell_type": "code",
   "execution_count": null,
   "metadata": {
    "scrolled": true
   },
   "outputs": [],
   "source": [
    "sns.set()\n",
    "\n",
    "g = sns.FacetGrid(city_metrics, col='weekday', size=7, aspect=1, col_wrap=3)\n",
    "g.map(sns.pointplot, 'time', 'mean_surge_multipler')"
   ]
  },
  {
   "cell_type": "code",
   "execution_count": null,
   "metadata": {
    "scrolled": true
   },
   "outputs": [],
   "source": []
  },
  {
   "cell_type": "code",
   "execution_count": null,
   "metadata": {},
   "outputs": [],
   "source": [
    "driver_payout = cdnsd.groupby(['weekday', 'time'])['driver payout'].mean()"
   ]
  },
  {
   "cell_type": "code",
   "execution_count": null,
   "metadata": {
    "scrolled": true
   },
   "outputs": [],
   "source": [
    "driver_payout = driver_payout.unstack(level=0)[aa]"
   ]
  },
  {
   "cell_type": "code",
   "execution_count": null,
   "metadata": {},
   "outputs": [],
   "source": [
    "sns.heatmap(driver_payout)\n",
    "\n",
    "# group this one with eta"
   ]
  },
  {
   "cell_type": "code",
   "execution_count": null,
   "metadata": {},
   "outputs": [],
   "source": [
    "cdnsd.groupby(['start_geo', 'end_geo'])['estimated_time_to_arrival'].mean()"
   ]
  },
  {
   "cell_type": "code",
   "execution_count": null,
   "metadata": {
    "scrolled": true
   },
   "outputs": [],
   "source": [
    "city_surge = city_metrics.groupby(['weekday', 'time'])['mean_surge_multipler'].mean()\n",
    "city_req = city_metrics.groupby(['weekday', 'time'])['requests'].mean()\n",
    "city_trips = city_metrics.groupby(['weekday', 'time'])['trips'].mean()\n",
    "city_supply = city_metrics.groupby(['weekday', 'time'])['supply_hours'].mean()"
   ]
  },
  {
   "cell_type": "code",
   "execution_count": null,
   "metadata": {
    "scrolled": true
   },
   "outputs": [],
   "source": [
    "city_surge = city_surge.unstack(level=0)[aa]\n",
    "city_req = city_req.unstack(level=0)[aa]\n",
    "city_trips = city_trips.unstack(level=0)[aa]\n",
    "city_supply = city_supply.unstack(level=0)[aa]"
   ]
  },
  {
   "cell_type": "code",
   "execution_count": null,
   "metadata": {},
   "outputs": [],
   "source": [
    "sns.heatmap(city_surge * city_supply)"
   ]
  },
  {
   "cell_type": "markdown",
   "metadata": {},
   "source": [
    "First, the **\"outlier\" on 'Th' at 8** may be causing higher percentage of neutral colors (below)"
   ]
  },
  {
   "cell_type": "code",
   "execution_count": null,
   "metadata": {},
   "outputs": [],
   "source": [
    "sns.heatmap(city_surge)"
   ]
  },
  {
   "cell_type": "code",
   "execution_count": null,
   "metadata": {},
   "outputs": [],
   "source": [
    "sns.heatmap(city_supply)"
   ]
  },
  {
   "cell_type": "code",
   "execution_count": null,
   "metadata": {},
   "outputs": [],
   "source": []
  },
  {
   "cell_type": "code",
   "execution_count": null,
   "metadata": {},
   "outputs": [],
   "source": []
  },
  {
   "cell_type": "code",
   "execution_count": null,
   "metadata": {},
   "outputs": [],
   "source": []
  },
  {
   "cell_type": "code",
   "execution_count": null,
   "metadata": {},
   "outputs": [],
   "source": []
  },
  {
   "cell_type": "code",
   "execution_count": null,
   "metadata": {},
   "outputs": [],
   "source": []
  },
  {
   "cell_type": "code",
   "execution_count": null,
   "metadata": {},
   "outputs": [],
   "source": []
  },
  {
   "cell_type": "code",
   "execution_count": null,
   "metadata": {},
   "outputs": [],
   "source": []
  },
  {
   "cell_type": "code",
   "execution_count": null,
   "metadata": {},
   "outputs": [],
   "source": []
  },
  {
   "cell_type": "code",
   "execution_count": null,
   "metadata": {},
   "outputs": [],
   "source": []
  },
  {
   "cell_type": "code",
   "execution_count": null,
   "metadata": {},
   "outputs": [],
   "source": []
  },
  {
   "cell_type": "code",
   "execution_count": null,
   "metadata": {},
   "outputs": [],
   "source": []
  },
  {
   "cell_type": "code",
   "execution_count": null,
   "metadata": {},
   "outputs": [],
   "source": []
  },
  {
   "cell_type": "code",
   "execution_count": null,
   "metadata": {},
   "outputs": [],
   "source": []
  },
  {
   "cell_type": "code",
   "execution_count": null,
   "metadata": {},
   "outputs": [],
   "source": []
  },
  {
   "cell_type": "code",
   "execution_count": null,
   "metadata": {},
   "outputs": [],
   "source": []
  },
  {
   "cell_type": "code",
   "execution_count": null,
   "metadata": {},
   "outputs": [],
   "source": []
  },
  {
   "cell_type": "code",
   "execution_count": null,
   "metadata": {},
   "outputs": [],
   "source": []
  },
  {
   "cell_type": "code",
   "execution_count": null,
   "metadata": {},
   "outputs": [],
   "source": []
  },
  {
   "cell_type": "markdown",
   "metadata": {},
   "source": [
    "### question is about new drivers\n",
    "### better locations and times (assuming when mean surge multiplier is high)\n",
    "\n",
    "### in city_metrics, i have mean_surge_mult by the hour...\n",
    "\n",
    "***\n",
    "\n",
    "\n",
    "# when grouping up by variables, A/A test each \n",
    "## do this in case of unexpected or seasonal events (outliers)\n",
    "### actually a big difference between an unexpected event and a seasonal event\n",
    "### skirt around for now\n",
    "\n",
    "\n",
    "## find mean of 'surge_multiplier' in driver_trips"
   ]
  },
  {
   "cell_type": "code",
   "execution_count": null,
   "metadata": {},
   "outputs": [],
   "source": [
    "tips = sns.load_dataset(\"tips\")"
   ]
  },
  {
   "cell_type": "code",
   "execution_count": null,
   "metadata": {},
   "outputs": [],
   "source": [
    "g = sns.factorplot(x='end_geo', y='driver payout', col='start_geo', data=cdnsd, kind='bar', size=4, aspect=.7)"
   ]
  },
  {
   "cell_type": "code",
   "execution_count": null,
   "metadata": {},
   "outputs": [],
   "source": [
    "g = sns.factorplot(x='end_geo', y='surge_multiplier', col='start_geo', data=cdnsd, kind='bar', size=4, aspect=.7, sharey=False)"
   ]
  },
  {
   "cell_type": "code",
   "execution_count": null,
   "metadata": {},
   "outputs": [],
   "source": [
    "g = sns.factorplot(x='end_geo', y='estimated_time_to_arrival', col='start_geo', data=cdnsd, kind='bar', size=4, aspect=.7, sharey=False)"
   ]
  },
  {
   "cell_type": "code",
   "execution_count": null,
   "metadata": {},
   "outputs": [],
   "source": []
  },
  {
   "cell_type": "code",
   "execution_count": null,
   "metadata": {},
   "outputs": [],
   "source": [
    "cdnsd.groupby('start_geo')['surge_multiplier'].mean()"
   ]
  },
  {
   "cell_type": "code",
   "execution_count": null,
   "metadata": {},
   "outputs": [],
   "source": [
    "cdnsd.groupby('start_geo')['driver payout'].mean()"
   ]
  },
  {
   "cell_type": "code",
   "execution_count": null,
   "metadata": {},
   "outputs": [],
   "source": [
    "cdnsd.groupby('end_geo')['driver payout'].mean()"
   ]
  },
  {
   "cell_type": "code",
   "execution_count": null,
   "metadata": {},
   "outputs": [],
   "source": [
    "cdnsd.groupby(['start_geo', 'end_geo'])['surge_multiplier'].mean()"
   ]
  },
  {
   "cell_type": "code",
   "execution_count": null,
   "metadata": {},
   "outputs": [],
   "source": [
    "cdnsd.groupby(['start_geo', 'end_geo'])['driver payout'].mean()"
   ]
  },
  {
   "cell_type": "code",
   "execution_count": null,
   "metadata": {},
   "outputs": [],
   "source": [
    "cdnsd.groupby(['start_geo', 'end_geo'])['estimated_time_to_arrival'].mean()"
   ]
  },
  {
   "cell_type": "code",
   "execution_count": null,
   "metadata": {},
   "outputs": [],
   "source": []
  },
  {
   "cell_type": "code",
   "execution_count": null,
   "metadata": {},
   "outputs": [],
   "source": []
  },
  {
   "cell_type": "code",
   "execution_count": null,
   "metadata": {},
   "outputs": [],
   "source": []
  },
  {
   "cell_type": "code",
   "execution_count": null,
   "metadata": {},
   "outputs": [],
   "source": []
  },
  {
   "cell_type": "code",
   "execution_count": null,
   "metadata": {},
   "outputs": [],
   "source": []
  },
  {
   "cell_type": "code",
   "execution_count": null,
   "metadata": {},
   "outputs": [],
   "source": []
  },
  {
   "cell_type": "code",
   "execution_count": null,
   "metadata": {},
   "outputs": [],
   "source": []
  },
  {
   "cell_type": "code",
   "execution_count": null,
   "metadata": {},
   "outputs": [],
   "source": []
  },
  {
   "cell_type": "code",
   "execution_count": null,
   "metadata": {},
   "outputs": [],
   "source": []
  },
  {
   "cell_type": "code",
   "execution_count": null,
   "metadata": {},
   "outputs": [],
   "source": []
  },
  {
   "cell_type": "code",
   "execution_count": null,
   "metadata": {},
   "outputs": [],
   "source": []
  },
  {
   "cell_type": "code",
   "execution_count": null,
   "metadata": {},
   "outputs": [],
   "source": []
  },
  {
   "cell_type": "code",
   "execution_count": null,
   "metadata": {},
   "outputs": [],
   "source": []
  },
  {
   "cell_type": "code",
   "execution_count": null,
   "metadata": {},
   "outputs": [],
   "source": []
  },
  {
   "cell_type": "code",
   "execution_count": null,
   "metadata": {},
   "outputs": [],
   "source": []
  },
  {
   "cell_type": "code",
   "execution_count": null,
   "metadata": {},
   "outputs": [],
   "source": []
  },
  {
   "cell_type": "code",
   "execution_count": null,
   "metadata": {},
   "outputs": [],
   "source": []
  },
  {
   "cell_type": "code",
   "execution_count": null,
   "metadata": {},
   "outputs": [],
   "source": []
  },
  {
   "cell_type": "code",
   "execution_count": null,
   "metadata": {},
   "outputs": [],
   "source": [
    "X = test_1.iloc[:, :-1]\n",
    "y = test_1.iloc[:, -1:]"
   ]
  },
  {
   "cell_type": "code",
   "execution_count": null,
   "metadata": {},
   "outputs": [],
   "source": [
    "X_train, X_test, y_train, y_test = train_test_split(X, y)"
   ]
  },
  {
   "cell_type": "code",
   "execution_count": null,
   "metadata": {},
   "outputs": [],
   "source": [
    "X_train.shape"
   ]
  },
  {
   "cell_type": "code",
   "execution_count": null,
   "metadata": {},
   "outputs": [],
   "source": [
    "X_test.shape"
   ]
  },
  {
   "cell_type": "code",
   "execution_count": null,
   "metadata": {},
   "outputs": [],
   "source": []
  },
  {
   "cell_type": "code",
   "execution_count": null,
   "metadata": {},
   "outputs": [],
   "source": [
    "lg.fit(X_train, y_train)"
   ]
  },
  {
   "cell_type": "code",
   "execution_count": null,
   "metadata": {},
   "outputs": [],
   "source": [
    "lg.score(X_test, y_test)"
   ]
  },
  {
   "cell_type": "code",
   "execution_count": null,
   "metadata": {},
   "outputs": [],
   "source": [
    "y_predict = lg.predict(X_test)"
   ]
  },
  {
   "cell_type": "code",
   "execution_count": null,
   "metadata": {},
   "outputs": [],
   "source": []
  },
  {
   "cell_type": "code",
   "execution_count": null,
   "metadata": {},
   "outputs": [],
   "source": [
    "dt.fit(X_train, y_train)"
   ]
  },
  {
   "cell_type": "code",
   "execution_count": null,
   "metadata": {},
   "outputs": [],
   "source": [
    "dt.score(X_test, y_test)"
   ]
  },
  {
   "cell_type": "code",
   "execution_count": null,
   "metadata": {
    "scrolled": true
   },
   "outputs": [],
   "source": [
    "rf.fit(X_train, y_train.iloc[:, 0])"
   ]
  },
  {
   "cell_type": "code",
   "execution_count": null,
   "metadata": {},
   "outputs": [],
   "source": [
    "rf.score(X_test, y_test)"
   ]
  },
  {
   "cell_type": "code",
   "execution_count": null,
   "metadata": {},
   "outputs": [],
   "source": []
  },
  {
   "cell_type": "code",
   "execution_count": null,
   "metadata": {},
   "outputs": [],
   "source": []
  },
  {
   "cell_type": "code",
   "execution_count": null,
   "metadata": {},
   "outputs": [],
   "source": []
  },
  {
   "cell_type": "code",
   "execution_count": null,
   "metadata": {},
   "outputs": [],
   "source": []
  },
  {
   "cell_type": "code",
   "execution_count": null,
   "metadata": {},
   "outputs": [],
   "source": [
    "#sklearn.preprocessing\n",
    "#g.normalize\n",
    "\n",
    "import numpy as np\n",
    "\n",
    "def normalized(a, axis=-1, order=2):\n",
    "    l2 = np.atleast_1d(np.linalg.norm(a, order, axis))\n",
    "    l2[l2==0] = 1\n",
    "    return a / np.expand_dims(l2, axis)\n",
    "\n",
    "A = np.random.randn(3,3,3)\n",
    "print(A)\n",
    "print(normalized(A,0))"
   ]
  }
 ],
 "metadata": {
  "kernelspec": {
   "display_name": "Python 3",
   "language": "python",
   "name": "python3"
  },
  "language_info": {
   "codemirror_mode": {
    "name": "ipython",
    "version": 3
   },
   "file_extension": ".py",
   "mimetype": "text/x-python",
   "name": "python",
   "nbconvert_exporter": "python",
   "pygments_lexer": "ipython3",
   "version": "3.6.4"
  }
 },
 "nbformat": 4,
 "nbformat_minor": 2
}
