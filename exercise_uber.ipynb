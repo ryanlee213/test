{
 "cells": [
  {
   "cell_type": "markdown",
   "metadata": {},
   "source": [
    "Select one of the challenge areas below, which represent real challenges you will encounter as a data scientist in Marketplace. Use the datasets provided to you to create a technical document or presentation in which you will:\n",
    "\n",
    "- Show and Explain the **prevalence of the problem** using the provided dataset.\n",
    "- Develop **predictive model(s)** to solve the problem and evaluate the model performance.\n",
    "- Discuss **metrics** that can be used to measure the business impact of your solution.\n",
    "- Explain your **plan for testing** the solution and quantifying the business impact.\n",
    "- **Recommend actionable next steps** and other factors to consider as we plan to solve the problem.\n",
    "\n",
    "\n",
    "#### When to drive\n",
    "New drivers might have trouble earning money when they join because they don’t know when and where to drive to maximize their earnings.<br> If drivers drove in **better locations and times**, Uber and driver partners would **earn more money**, and riders would get **shorter ETA’s and lower prices.**<br> Build models to predict the benefit of driving in different times and locations in the coming week, and give each driver in the dataset a recommendation about when and where to drive. Please be explicit about what you’re optimizing for and why.\n"
   ]
  },
  {
   "cell_type": "markdown",
   "metadata": {},
   "source": [
    "normalized scalar\n",
    "feature_mapper\n",
    "pca"
   ]
  },
  {
   "cell_type": "code",
   "execution_count": 1,
   "metadata": {},
   "outputs": [],
   "source": [
    "import pandas as pd\n",
    "import numpy as np\n",
    "import matplotlib.pyplot as plt\n",
    "% matplotlib inline\n",
    "import seaborn as sns\n",
    "from scipy.stats import norm, boxcox, skewnorm, percentileofscore"
   ]
  },
  {
   "cell_type": "code",
   "execution_count": 2,
   "metadata": {},
   "outputs": [],
   "source": [
    "from sklearn.linear_model import LinearRegression"
   ]
  },
  {
   "cell_type": "code",
   "execution_count": 3,
   "metadata": {},
   "outputs": [],
   "source": [
    "from sklearn.tree import DecisionTreeRegressor"
   ]
  },
  {
   "cell_type": "code",
   "execution_count": 4,
   "metadata": {},
   "outputs": [],
   "source": [
    "from sklearn.ensemble import RandomForestRegressor, GradientBoostingRegressor"
   ]
  },
  {
   "cell_type": "code",
   "execution_count": 5,
   "metadata": {},
   "outputs": [],
   "source": [
    "from sklearn.naive_bayes import GaussianNB, BernoulliNB"
   ]
  },
  {
   "cell_type": "code",
   "execution_count": 6,
   "metadata": {},
   "outputs": [],
   "source": [
    "from sklearn.model_selection import train_test_split"
   ]
  },
  {
   "cell_type": "code",
   "execution_count": 7,
   "metadata": {},
   "outputs": [],
   "source": [
    "df1 = pd.read_excel('uber_exer.xlsx', sheet_name=0)\n",
    "df1 = df1.drop('Unnamed: 0', axis=1)"
   ]
  },
  {
   "cell_type": "code",
   "execution_count": 8,
   "metadata": {
    "scrolled": true
   },
   "outputs": [],
   "source": [
    "df1.rename(columns={'Data Overview':'Data', 'Unnamed: 2':'Overview'}, inplace=True)"
   ]
  },
  {
   "cell_type": "code",
   "execution_count": 9,
   "metadata": {
    "scrolled": true
   },
   "outputs": [
    {
     "data": {
      "text/html": [
       "<div>\n",
       "<style scoped>\n",
       "    .dataframe tbody tr th:only-of-type {\n",
       "        vertical-align: middle;\n",
       "    }\n",
       "\n",
       "    .dataframe tbody tr th {\n",
       "        vertical-align: top;\n",
       "    }\n",
       "\n",
       "    .dataframe thead th {\n",
       "        text-align: right;\n",
       "    }\n",
       "</style>\n",
       "<table border=\"1\" class=\"dataframe\">\n",
       "  <thead>\n",
       "    <tr style=\"text-align: right;\">\n",
       "      <th></th>\n",
       "      <th>Data</th>\n",
       "      <th>Overview</th>\n",
       "    </tr>\n",
       "  </thead>\n",
       "  <tbody>\n",
       "    <tr>\n",
       "      <th>0</th>\n",
       "      <td>The data in these tables represent a portion of the total data for the city. For example, trip data only includes trips within the city that start or end within given geofences, so there are more total trips in the city.\\n\\nSimilarly, the driver and rider data tables represent only a portion of drivers and riders in the city.\\n\\nLast, there may be some data that is incorrect or missing. Feel free to call this out in your analysis.</td>\n",
       "      <td>NaN</td>\n",
       "    </tr>\n",
       "    <tr>\n",
       "      <th>1</th>\n",
       "      <td>NaN</td>\n",
       "      <td>NaN</td>\n",
       "    </tr>\n",
       "    <tr>\n",
       "      <th>2</th>\n",
       "      <td>driver_trips</td>\n",
       "      <td>NaN</td>\n",
       "    </tr>\n",
       "    <tr>\n",
       "      <th>3</th>\n",
       "      <td>trip_id</td>\n",
       "      <td>Unique identifier for trip</td>\n",
       "    </tr>\n",
       "    <tr>\n",
       "      <th>4</th>\n",
       "      <td>driver_id</td>\n",
       "      <td>Unique identifier for driver</td>\n",
       "    </tr>\n",
       "    <tr>\n",
       "      <th>5</th>\n",
       "      <td>trip_status</td>\n",
       "      <td>Status of the trip \\n(unfulfilled = rider request, no driver able to dispatch\\nfailed = trip request failed)</td>\n",
       "    </tr>\n",
       "    <tr>\n",
       "      <th>6</th>\n",
       "      <td>actual_time_to_arrival</td>\n",
       "      <td>Minutes from request to pick-up</td>\n",
       "    </tr>\n",
       "    <tr>\n",
       "      <th>7</th>\n",
       "      <td>request_time</td>\n",
       "      <td>Local request time of the trip</td>\n",
       "    </tr>\n",
       "    <tr>\n",
       "      <th>8</th>\n",
       "      <td>surge_multiplier</td>\n",
       "      <td>The surge multiplier of the request (1 is no surge)</td>\n",
       "    </tr>\n",
       "    <tr>\n",
       "      <th>9</th>\n",
       "      <td>driver_payout</td>\n",
       "      <td>The amount the driver was paid for the trip</td>\n",
       "    </tr>\n",
       "    <tr>\n",
       "      <th>10</th>\n",
       "      <td>start_geo</td>\n",
       "      <td>The geo of the request point of the trip</td>\n",
       "    </tr>\n",
       "    <tr>\n",
       "      <th>11</th>\n",
       "      <td>end_geo</td>\n",
       "      <td>The geo of the dropoff point of the trip</td>\n",
       "    </tr>\n",
       "    <tr>\n",
       "      <th>12</th>\n",
       "      <td>NaN</td>\n",
       "      <td>NaN</td>\n",
       "    </tr>\n",
       "    <tr>\n",
       "      <th>13</th>\n",
       "      <td>rider_trips</td>\n",
       "      <td>NaN</td>\n",
       "    </tr>\n",
       "    <tr>\n",
       "      <th>14</th>\n",
       "      <td>trip_id</td>\n",
       "      <td>Unique identifier for trip</td>\n",
       "    </tr>\n",
       "    <tr>\n",
       "      <th>15</th>\n",
       "      <td>rider_id</td>\n",
       "      <td>Unique identifier for rider</td>\n",
       "    </tr>\n",
       "    <tr>\n",
       "      <th>16</th>\n",
       "      <td>trip_status</td>\n",
       "      <td>Status of the trip \\n(unfulfilled = rider request, no driver able to dispatch\\nfailed = trip request failed)</td>\n",
       "    </tr>\n",
       "    <tr>\n",
       "      <th>17</th>\n",
       "      <td>estimated_time_to_arrival</td>\n",
       "      <td>Minutes estimated at time of request to pick-up time</td>\n",
       "    </tr>\n",
       "    <tr>\n",
       "      <th>18</th>\n",
       "      <td>request_time</td>\n",
       "      <td>Local request time of the trip</td>\n",
       "    </tr>\n",
       "    <tr>\n",
       "      <th>19</th>\n",
       "      <td>surge_multiplier</td>\n",
       "      <td>The surge multiplier of the request (1 is no surge)</td>\n",
       "    </tr>\n",
       "    <tr>\n",
       "      <th>20</th>\n",
       "      <td>trip_price_pre_discount</td>\n",
       "      <td>The original price of the trip</td>\n",
       "    </tr>\n",
       "    <tr>\n",
       "      <th>21</th>\n",
       "      <td>rider_payment</td>\n",
       "      <td>The amount the rider paid for the trip (includes discount)</td>\n",
       "    </tr>\n",
       "    <tr>\n",
       "      <th>22</th>\n",
       "      <td>start_geo</td>\n",
       "      <td>The geo of the request point of the trip</td>\n",
       "    </tr>\n",
       "    <tr>\n",
       "      <th>23</th>\n",
       "      <td>end_geo</td>\n",
       "      <td>The geo of the dropoff point of the trip</td>\n",
       "    </tr>\n",
       "    <tr>\n",
       "      <th>24</th>\n",
       "      <td>NaN</td>\n",
       "      <td>NaN</td>\n",
       "    </tr>\n",
       "    <tr>\n",
       "      <th>25</th>\n",
       "      <td>driver_data</td>\n",
       "      <td>NaN</td>\n",
       "    </tr>\n",
       "    <tr>\n",
       "      <th>26</th>\n",
       "      <td>driver_id</td>\n",
       "      <td>Unique identifier for driver</td>\n",
       "    </tr>\n",
       "    <tr>\n",
       "      <th>27</th>\n",
       "      <td>first_completed_trip</td>\n",
       "      <td>Timestamp of the driver's first completed trip</td>\n",
       "    </tr>\n",
       "    <tr>\n",
       "      <th>28</th>\n",
       "      <td>lifetime_rating</td>\n",
       "      <td>Lifetime rating of driver</td>\n",
       "    </tr>\n",
       "    <tr>\n",
       "      <th>29</th>\n",
       "      <td>lifetime_fares</td>\n",
       "      <td>Lifetime payout to driver</td>\n",
       "    </tr>\n",
       "    <tr>\n",
       "      <th>30</th>\n",
       "      <td>lifetime_completed_trips</td>\n",
       "      <td>Lifetime completed trips of driver</td>\n",
       "    </tr>\n",
       "    <tr>\n",
       "      <th>31</th>\n",
       "      <td>NaN</td>\n",
       "      <td>NaN</td>\n",
       "    </tr>\n",
       "    <tr>\n",
       "      <th>32</th>\n",
       "      <td>rider_data</td>\n",
       "      <td>NaN</td>\n",
       "    </tr>\n",
       "    <tr>\n",
       "      <th>33</th>\n",
       "      <td>rider_id</td>\n",
       "      <td>Unique identifier for rider</td>\n",
       "    </tr>\n",
       "    <tr>\n",
       "      <th>34</th>\n",
       "      <td>first_completed_trip</td>\n",
       "      <td>Timestamp of the rider's first completed trip</td>\n",
       "    </tr>\n",
       "    <tr>\n",
       "      <th>35</th>\n",
       "      <td>lifetime_trips</td>\n",
       "      <td>Lifetime completed trips of rider</td>\n",
       "    </tr>\n",
       "    <tr>\n",
       "      <th>36</th>\n",
       "      <td>first_trip_city_id</td>\n",
       "      <td>The city ID of the rider's first trip</td>\n",
       "    </tr>\n",
       "    <tr>\n",
       "      <th>37</th>\n",
       "      <td>lifetime_payments</td>\n",
       "      <td>Lifetime payments of rider</td>\n",
       "    </tr>\n",
       "    <tr>\n",
       "      <th>38</th>\n",
       "      <td>NaN</td>\n",
       "      <td>NaN</td>\n",
       "    </tr>\n",
       "    <tr>\n",
       "      <th>39</th>\n",
       "      <td>city_metrics</td>\n",
       "      <td>NaN</td>\n",
       "    </tr>\n",
       "    <tr>\n",
       "      <th>40</th>\n",
       "      <td>timestamp</td>\n",
       "      <td>Day and hour of data</td>\n",
       "    </tr>\n",
       "    <tr>\n",
       "      <th>41</th>\n",
       "      <td>requests</td>\n",
       "      <td>Total requests in the given hour</td>\n",
       "    </tr>\n",
       "    <tr>\n",
       "      <th>42</th>\n",
       "      <td>trips</td>\n",
       "      <td>Total completed trips in the given hour</td>\n",
       "    </tr>\n",
       "    <tr>\n",
       "      <th>43</th>\n",
       "      <td>supply_hours</td>\n",
       "      <td>Total supply hours in the given hour</td>\n",
       "    </tr>\n",
       "    <tr>\n",
       "      <th>44</th>\n",
       "      <td>mean_surge_multipler</td>\n",
       "      <td>Mean surge multiplier of completed trips in that hour</td>\n",
       "    </tr>\n",
       "  </tbody>\n",
       "</table>\n",
       "</div>"
      ],
      "text/plain": [
       "                                                                                                                                                                                                                                                                                                                                                                                                                                                  Data  \\\n",
       "0   The data in these tables represent a portion of the total data for the city. For example, trip data only includes trips within the city that start or end within given geofences, so there are more total trips in the city.\\n\\nSimilarly, the driver and rider data tables represent only a portion of drivers and riders in the city.\\n\\nLast, there may be some data that is incorrect or missing. Feel free to call this out in your analysis.   \n",
       "1   NaN                                                                                                                                                                                                                                                                                                                                                                                                                                                  \n",
       "2   driver_trips                                                                                                                                                                                                                                                                                                                                                                                                                                         \n",
       "3   trip_id                                                                                                                                                                                                                                                                                                                                                                                                                                              \n",
       "4   driver_id                                                                                                                                                                                                                                                                                                                                                                                                                                            \n",
       "5   trip_status                                                                                                                                                                                                                                                                                                                                                                                                                                          \n",
       "6   actual_time_to_arrival                                                                                                                                                                                                                                                                                                                                                                                                                               \n",
       "7   request_time                                                                                                                                                                                                                                                                                                                                                                                                                                         \n",
       "8   surge_multiplier                                                                                                                                                                                                                                                                                                                                                                                                                                     \n",
       "9   driver_payout                                                                                                                                                                                                                                                                                                                                                                                                                                        \n",
       "10  start_geo                                                                                                                                                                                                                                                                                                                                                                                                                                            \n",
       "11  end_geo                                                                                                                                                                                                                                                                                                                                                                                                                                              \n",
       "12  NaN                                                                                                                                                                                                                                                                                                                                                                                                                                                  \n",
       "13  rider_trips                                                                                                                                                                                                                                                                                                                                                                                                                                          \n",
       "14  trip_id                                                                                                                                                                                                                                                                                                                                                                                                                                              \n",
       "15  rider_id                                                                                                                                                                                                                                                                                                                                                                                                                                             \n",
       "16  trip_status                                                                                                                                                                                                                                                                                                                                                                                                                                          \n",
       "17  estimated_time_to_arrival                                                                                                                                                                                                                                                                                                                                                                                                                            \n",
       "18  request_time                                                                                                                                                                                                                                                                                                                                                                                                                                         \n",
       "19  surge_multiplier                                                                                                                                                                                                                                                                                                                                                                                                                                     \n",
       "20  trip_price_pre_discount                                                                                                                                                                                                                                                                                                                                                                                                                              \n",
       "21  rider_payment                                                                                                                                                                                                                                                                                                                                                                                                                                        \n",
       "22  start_geo                                                                                                                                                                                                                                                                                                                                                                                                                                            \n",
       "23  end_geo                                                                                                                                                                                                                                                                                                                                                                                                                                              \n",
       "24  NaN                                                                                                                                                                                                                                                                                                                                                                                                                                                  \n",
       "25  driver_data                                                                                                                                                                                                                                                                                                                                                                                                                                          \n",
       "26  driver_id                                                                                                                                                                                                                                                                                                                                                                                                                                            \n",
       "27  first_completed_trip                                                                                                                                                                                                                                                                                                                                                                                                                                 \n",
       "28  lifetime_rating                                                                                                                                                                                                                                                                                                                                                                                                                                      \n",
       "29  lifetime_fares                                                                                                                                                                                                                                                                                                                                                                                                                                       \n",
       "30  lifetime_completed_trips                                                                                                                                                                                                                                                                                                                                                                                                                             \n",
       "31  NaN                                                                                                                                                                                                                                                                                                                                                                                                                                                  \n",
       "32  rider_data                                                                                                                                                                                                                                                                                                                                                                                                                                           \n",
       "33  rider_id                                                                                                                                                                                                                                                                                                                                                                                                                                             \n",
       "34  first_completed_trip                                                                                                                                                                                                                                                                                                                                                                                                                                 \n",
       "35  lifetime_trips                                                                                                                                                                                                                                                                                                                                                                                                                                       \n",
       "36  first_trip_city_id                                                                                                                                                                                                                                                                                                                                                                                                                                   \n",
       "37  lifetime_payments                                                                                                                                                                                                                                                                                                                                                                                                                                    \n",
       "38  NaN                                                                                                                                                                                                                                                                                                                                                                                                                                                  \n",
       "39  city_metrics                                                                                                                                                                                                                                                                                                                                                                                                                                         \n",
       "40  timestamp                                                                                                                                                                                                                                                                                                                                                                                                                                            \n",
       "41  requests                                                                                                                                                                                                                                                                                                                                                                                                                                             \n",
       "42  trips                                                                                                                                                                                                                                                                                                                                                                                                                                                \n",
       "43  supply_hours                                                                                                                                                                                                                                                                                                                                                                                                                                         \n",
       "44  mean_surge_multipler                                                                                                                                                                                                                                                                                                                                                                                                                                 \n",
       "\n",
       "                                                                                                        Overview  \n",
       "0   NaN                                                                                                           \n",
       "1   NaN                                                                                                           \n",
       "2   NaN                                                                                                           \n",
       "3   Unique identifier for trip                                                                                    \n",
       "4   Unique identifier for driver                                                                                  \n",
       "5   Status of the trip \\n(unfulfilled = rider request, no driver able to dispatch\\nfailed = trip request failed)  \n",
       "6   Minutes from request to pick-up                                                                               \n",
       "7   Local request time of the trip                                                                                \n",
       "8   The surge multiplier of the request (1 is no surge)                                                           \n",
       "9   The amount the driver was paid for the trip                                                                   \n",
       "10  The geo of the request point of the trip                                                                      \n",
       "11  The geo of the dropoff point of the trip                                                                      \n",
       "12  NaN                                                                                                           \n",
       "13  NaN                                                                                                           \n",
       "14  Unique identifier for trip                                                                                    \n",
       "15  Unique identifier for rider                                                                                   \n",
       "16  Status of the trip \\n(unfulfilled = rider request, no driver able to dispatch\\nfailed = trip request failed)  \n",
       "17  Minutes estimated at time of request to pick-up time                                                          \n",
       "18  Local request time of the trip                                                                                \n",
       "19  The surge multiplier of the request (1 is no surge)                                                           \n",
       "20  The original price of the trip                                                                                \n",
       "21  The amount the rider paid for the trip (includes discount)                                                    \n",
       "22  The geo of the request point of the trip                                                                      \n",
       "23  The geo of the dropoff point of the trip                                                                      \n",
       "24  NaN                                                                                                           \n",
       "25  NaN                                                                                                           \n",
       "26  Unique identifier for driver                                                                                  \n",
       "27  Timestamp of the driver's first completed trip                                                                \n",
       "28  Lifetime rating of driver                                                                                     \n",
       "29  Lifetime payout to driver                                                                                     \n",
       "30  Lifetime completed trips of driver                                                                            \n",
       "31  NaN                                                                                                           \n",
       "32  NaN                                                                                                           \n",
       "33  Unique identifier for rider                                                                                   \n",
       "34  Timestamp of the rider's first completed trip                                                                 \n",
       "35  Lifetime completed trips of rider                                                                             \n",
       "36  The city ID of the rider's first trip                                                                         \n",
       "37  Lifetime payments of rider                                                                                    \n",
       "38  NaN                                                                                                           \n",
       "39  NaN                                                                                                           \n",
       "40  Day and hour of data                                                                                          \n",
       "41  Total requests in the given hour                                                                              \n",
       "42  Total completed trips in the given hour                                                                       \n",
       "43  Total supply hours in the given hour                                                                          \n",
       "44  Mean surge multiplier of completed trips in that hour                                                         "
      ]
     },
     "execution_count": 9,
     "metadata": {},
     "output_type": "execute_result"
    }
   ],
   "source": [
    "pd.set_option('display.max_colwidth', -1)\n",
    "df1"
   ]
  },
  {
   "cell_type": "code",
   "execution_count": 96,
   "metadata": {},
   "outputs": [],
   "source": [
    "driver_trips = pd.read_excel('uber_exer.xlsx', sheet_name=1)\n",
    "rider_trips = pd.read_excel('uber_exer.xlsx', sheet_name=2)\n",
    "driver_data = pd.read_excel('uber_exer.xlsx', sheet_name=3)\n",
    "rider_data = pd.read_excel('uber_exer.xlsx', sheet_name=4)\n",
    "city_metrics = pd.read_excel('uber_exer.xlsx', sheet_name=5)"
   ]
  },
  {
   "cell_type": "code",
   "execution_count": 97,
   "metadata": {},
   "outputs": [],
   "source": [
    "dd_cols = list(driver_data.columns.difference(driver_trips.columns))\n",
    "dd_cols = ['driver_id'] + dd_cols\n",
    "\n",
    "cdnsd = driver_trips.merge(driver_data[dd_cols], on='driver_id')"
   ]
  },
  {
   "cell_type": "code",
   "execution_count": 98,
   "metadata": {},
   "outputs": [],
   "source": [
    "rt_cols = list(rider_trips.columns.difference(cdnsd.columns))\n",
    "rt_cols = ['trip_id'] + rt_cols\n",
    "\n",
    "cdnsd = cdnsd.merge(rider_trips[rt_cols], on='trip_id')"
   ]
  },
  {
   "cell_type": "code",
   "execution_count": 99,
   "metadata": {},
   "outputs": [],
   "source": [
    "rd_cols = list(rider_data.columns.difference(cdnsd.columns))\n",
    "rd_cols = ['rider_id'] + rd_cols\n",
    "\n",
    "cdnsd = cdnsd.merge(rider_data[rd_cols], on='rider_id')"
   ]
  },
  {
   "cell_type": "code",
   "execution_count": 100,
   "metadata": {},
   "outputs": [],
   "source": [
    "cdnsd['timestamp'] = cdnsd['request_time'].dt.floor('h')"
   ]
  },
  {
   "cell_type": "code",
   "execution_count": 101,
   "metadata": {},
   "outputs": [],
   "source": [
    "cm_cols = list(city_metrics.columns.difference(cdnsd.columns))\n",
    "cm_cols = ['timestamp'] + cm_cols\n",
    "\n",
    "cdnsd = cdnsd.merge(city_metrics[cm_cols], on='timestamp')"
   ]
  },
  {
   "cell_type": "code",
   "execution_count": 102,
   "metadata": {},
   "outputs": [],
   "source": [
    "rider = list(set(a for a in cdnsd['rider_id']))\n",
    "driver = list(set(a for a in cdnsd['driver_id']))"
   ]
  },
  {
   "cell_type": "code",
   "execution_count": 103,
   "metadata": {},
   "outputs": [],
   "source": [
    "riders = {}\n",
    "drivers = {}"
   ]
  },
  {
   "cell_type": "code",
   "execution_count": 104,
   "metadata": {},
   "outputs": [],
   "source": [
    "for i, r in enumerate(rider, 1):\n",
    "    riders[r] = i"
   ]
  },
  {
   "cell_type": "code",
   "execution_count": 105,
   "metadata": {},
   "outputs": [],
   "source": [
    "for i, r in enumerate(driver, 1):\n",
    "    drivers[r] = i"
   ]
  },
  {
   "cell_type": "code",
   "execution_count": 106,
   "metadata": {},
   "outputs": [],
   "source": [
    "cdnsd['rider'] = cdnsd.copy()['rider_id'].apply(lambda x: riders[x] if x in riders else 0)"
   ]
  },
  {
   "cell_type": "code",
   "execution_count": 107,
   "metadata": {},
   "outputs": [],
   "source": [
    "cdnsd['driver'] = cdnsd.copy()['driver_id'].apply(lambda x: drivers[x] if x in drivers else 0)"
   ]
  },
  {
   "cell_type": "code",
   "execution_count": 108,
   "metadata": {},
   "outputs": [],
   "source": [
    "original_col = list(cdnsd.columns.drop(['driver_id', 'rider_id', 'request_time', 'trip_id', 'trip_status', 'start_geo', 'end_geo', 'first_completed_trip', 'timestamp', 'driver payout', 'rider_payment', 'trip_price_pre_discount']))"
   ]
  },
  {
   "cell_type": "code",
   "execution_count": 109,
   "metadata": {
    "scrolled": true
   },
   "outputs": [],
   "source": [
    "# some features; \n",
    "cdnsd['time'] = cdnsd['request_time'].apply(lambda x: x.hour)\n",
    "cdnsd['weekday'] = cdnsd['request_time'].apply(lambda x: x.weekday())\n",
    "cdnsd['month'] = cdnsd['request_time'].apply(lambda x: x.month)\n",
    "cdnsd['day'] = cdnsd['timestamp'].apply(lambda x: x.day)\n",
    "cdnsd['weekend'] = cdnsd['weekday'].apply(lambda x: 1 if x > 4 else 0) # count friday as a weekend?\n",
    "\n",
    "# keep for now\n",
    "a = {0:'M', 1:'Tu', 2:'We', 3:'Th', 4:'F', 5:'Sa', 6:'Su'}\n",
    "aa = ['M', 'Tu', 'We', 'Th', 'F', 'Sa', 'Su']\n",
    "# cdnsd['weekday_1'] = cdnsd.copy()['weekday'].replace(a)\n",
    "\n",
    "# cdnsd['arrival_in_mins'] = np.array(cdnsd['actual_time_to_arrival']).astype(int)\n",
    "# cdnsd['pay_in_dollars'] = np.array(cdnsd['driver payout']).astype(int)\n",
    "\n",
    "# add feature - ranked_score of driver_lifetime rating; \n",
    "\n",
    "# performance metrics\n",
    "cdnsd['fare/trip'] = cdnsd['lifetime_fares']/cdnsd['lifetime_completed_trips']\n",
    "cdnsd['arrival/eta'] =  cdnsd['estimated_time_to_arrival'] / cdnsd['actual_time_to_arrival']\n",
    "\n",
    "cdnsd['arrive_ontime'] = cdnsd['arrival/eta'].apply(lambda x: 1 if x<=1 else 0)"
   ]
  },
  {
   "cell_type": "code",
   "execution_count": 110,
   "metadata": {},
   "outputs": [],
   "source": [
    "cdnsd = cdnsd[cdnsd['trip_status']=='completed']"
   ]
  },
  {
   "cell_type": "code",
   "execution_count": 111,
   "metadata": {},
   "outputs": [],
   "source": [
    "locs = list(set([a for a in cdnsd.start_geo]))\n",
    "locs = sorted(locs)"
   ]
  },
  {
   "cell_type": "code",
   "execution_count": 112,
   "metadata": {},
   "outputs": [],
   "source": [
    "ref = {}\n",
    "for start in locs:\n",
    "    for end in locs:\n",
    "        r = start[0] + end[0]\n",
    "        ref[r] = [start, end]"
   ]
  },
  {
   "cell_type": "code",
   "execution_count": 113,
   "metadata": {},
   "outputs": [],
   "source": [
    "cdnsd['start_end'] = cdnsd[['start_geo', 'end_geo']].values.tolist()"
   ]
  },
  {
   "cell_type": "code",
   "execution_count": 114,
   "metadata": {},
   "outputs": [],
   "source": [
    "for k in ref.keys():\n",
    "    cdnsd[k] = cdnsd['start_end'].apply(lambda x: 1 if x==ref[k] else 0)"
   ]
  },
  {
   "cell_type": "markdown",
   "metadata": {},
   "source": [
    "#### 'Chelsea Court' to 'Chelsea Court' has half the observations\n",
    "- going by initials from this point forward; \n",
    "- 'Chelsea Court' to 'Chelsea Court' = 'CC'"
   ]
  },
  {
   "cell_type": "code",
   "execution_count": 115,
   "metadata": {},
   "outputs": [
    {
     "data": {
      "text/plain": [
       "CC    24644\n",
       "CA    5698 \n",
       "AC    5566 \n",
       "AA    3125 \n",
       "CB    2232 \n",
       "CD    2227 \n",
       "DC    2182 \n",
       "BC    2081 \n",
       "DD    1467 \n",
       "BB    1155 \n",
       "AD    334  \n",
       "DA    291  \n",
       "BA    283  \n",
       "AB    280  \n",
       "DB    190  \n",
       "BD    165  \n",
       "dtype: int64"
      ]
     },
     "execution_count": 115,
     "metadata": {},
     "output_type": "execute_result"
    }
   ],
   "source": [
    "destination = ['AA','AB','AC','AD','BA','BB','BC','BD','CA','CB','CC','CD','DA','DB','DC','DD']\n",
    "\n",
    "cdnsd.loc[:, destination].sum().sort_values(ascending=False)"
   ]
  },
  {
   "cell_type": "markdown",
   "metadata": {},
   "source": [
    "#### find trips where trip_price_pre_discount is different from rider_payment"
   ]
  },
  {
   "cell_type": "code",
   "execution_count": 116,
   "metadata": {},
   "outputs": [],
   "source": [
    "cdnsd['discount'] = cdnsd['trip_price_pre_discount'] - cdnsd['rider_payment']"
   ]
  },
  {
   "cell_type": "code",
   "execution_count": 117,
   "metadata": {},
   "outputs": [],
   "source": [
    "cdnsd['discount_trip'] = cdnsd['discount'].apply(lambda x: 1 if x!=0 else 0)"
   ]
  },
  {
   "cell_type": "code",
   "execution_count": 118,
   "metadata": {},
   "outputs": [],
   "source": [
    "night = [0, 1, 2, 21, 22, 23]\n",
    "morning = [3, 4, 5, 6, 7, 8]\n",
    "midday = [9, 10, 11, 12, 13, 14]\n",
    "evening = [15, 16, 17, 18, 19, 20]\n",
    "\n",
    "day = {'morning':morning, 'midday':midday, 'evening':evening, 'night':night}"
   ]
  },
  {
   "cell_type": "code",
   "execution_count": 119,
   "metadata": {},
   "outputs": [],
   "source": [
    "for d in day.keys():\n",
    "    cdnsd[d] = cdnsd['time'].apply(lambda x: 1 if x in day[d] else 0)"
   ]
  },
  {
   "cell_type": "code",
   "execution_count": 120,
   "metadata": {},
   "outputs": [],
   "source": [
    "cdnsd['surge_difference'] = cdnsd['surge_multiplier'] - cdnsd['mean_surge_multipler']"
   ]
  },
  {
   "cell_type": "markdown",
   "metadata": {},
   "source": [
    "#### trips where surge is greater than mean_surge"
   ]
  },
  {
   "cell_type": "code",
   "execution_count": 121,
   "metadata": {},
   "outputs": [],
   "source": [
    "cdnsd['surge_diff'] = cdnsd['surge_difference'].apply(lambda x: 1 if x >=0 else 0)"
   ]
  },
  {
   "cell_type": "code",
   "execution_count": 122,
   "metadata": {},
   "outputs": [],
   "source": [
    "# mean_surge_multipler mean of entire surge (?)\n",
    "cdnsd.groupby(['month', 'day', 'time']).get_group((4, 9, 6))[['request_time', 'timestamp', 'start_end', 'mean_surge_multipler']];"
   ]
  },
  {
   "cell_type": "code",
   "execution_count": 123,
   "metadata": {},
   "outputs": [
    {
     "name": "stdout",
     "output_type": "stream",
     "text": [
      "1.4038461538461533\n",
      "1.21892755681818\n"
     ]
    }
   ],
   "source": [
    "# mean of surge_multiplier - grouped by month, day, time - does not equal mean_surge_mutlipler\n",
    "print(cdnsd.groupby(['month', 'day', 'time']).get_group((4, 9, 6))['surge_multiplier'].mean())\n",
    "print(cdnsd.groupby(['month', 'day', 'time']).get_group((4,9,6))['mean_surge_multipler'][0])"
   ]
  },
  {
   "cell_type": "code",
   "execution_count": 124,
   "metadata": {},
   "outputs": [],
   "source": [
    "d = {}\n",
    "for start in locs:\n",
    "    for end in locs:\n",
    "        drive = start[0] + end[0]\n",
    "        d[drive] = cdnsd.groupby(['start_geo', 'end_geo']).get_group((start, end))"
   ]
  },
  {
   "cell_type": "code",
   "execution_count": 125,
   "metadata": {},
   "outputs": [],
   "source": [
    "destination = ['AA','AB','AC','AD','BA','BB','BC','BD','CA','CB','CC','CD','DA','DB','DC','DD']\n",
    "df = pd.DataFrame()\n",
    "\n",
    "for i, v in enumerate(destination, 1):\n",
    "    temp = cdnsd[v].apply(lambda x: i if x==1 else float('nan'))\n",
    "    df = pd.concat([df, temp], axis=1)\n",
    "\n",
    "    \n",
    "cdnsd['loc'] = df.stack().values"
   ]
  },
  {
   "cell_type": "code",
   "execution_count": 126,
   "metadata": {},
   "outputs": [],
   "source": [
    "day_1 = ['morning', 'midday', 'evening', 'night']\n",
    "df = pd.DataFrame()\n",
    "\n",
    "for i, v in enumerate(day_1, 1):\n",
    "    temp = cdnsd[v].apply(lambda x: i if x==1 else float('nan'))\n",
    "    df = pd.concat([df, temp], axis=1)\n",
    "    \n",
    "cdnsd['time_of_day'] = df.stack().values"
   ]
  },
  {
   "cell_type": "code",
   "execution_count": 127,
   "metadata": {
    "scrolled": true
   },
   "outputs": [],
   "source": [
    "cdnsd['avg_surge_diff'] = cdnsd.index\n",
    "cdnsd.loc[:, 'avg_surge_diff'] = cdnsd.groupby(['weekday', 'time'])['surge_multiplier'].apply(lambda x: x-x.mean())"
   ]
  },
  {
   "cell_type": "code",
   "execution_count": 128,
   "metadata": {},
   "outputs": [],
   "source": [
    "# metric to use\n",
    "# can't use estimated time if destination changes, etc\n",
    "# use 'rider_payment' instead of 'driver payout' - very high correlation, \n",
    "cdnsd['pay/time'] = cdnsd['rider_payment'] / cdnsd['actual_time_to_arrival']"
   ]
  },
  {
   "cell_type": "code",
   "execution_count": 129,
   "metadata": {
    "scrolled": true
   },
   "outputs": [],
   "source": [
    "# cdnsd['avg_pay_diff'] = cdnsd.groupby(['weekday', 'time'])['driver payout'].apply(lambda x: x-x.mean())"
   ]
  },
  {
   "cell_type": "code",
   "execution_count": null,
   "metadata": {},
   "outputs": [],
   "source": []
  },
  {
   "cell_type": "code",
   "execution_count": null,
   "metadata": {},
   "outputs": [],
   "source": []
  },
  {
   "cell_type": "markdown",
   "metadata": {},
   "source": [
    "### Change to include trip_status, change to binomial, add to features\n",
    "### feature maps"
   ]
  },
  {
   "cell_type": "code",
   "execution_count": 130,
   "metadata": {},
   "outputs": [],
   "source": [
    "\n",
    "df = cdnsd.copy()[cdnsd['trip_price_pre_discount']<50]"
   ]
  },
  {
   "cell_type": "code",
   "execution_count": 131,
   "metadata": {},
   "outputs": [],
   "source": [
    "# col_1 = ['driver payout', 'rider_payment', 'trip_price_pre_discount', 'surge_multiplier', 'mean_surge_multipler', 'lifetime_rating', 'request_time', 'estimated_time_to_arrival', 'actual_time_to_arrival','supply_hours', 'start_geo', 'end_geo']\n",
    "\n",
    "# features (maybe add eta feature)\n",
    "# col_f = ['loc', 'discount_trip', 'weekend', 'time_of_day', 'surge_diff', 'surge_multiplier',  'arrive_ontime', 'actual_time_to_arrival']\n",
    "col_f = ['driver', 'lifetime_fares', 'lifetime_rating', 'rider', 'loc', 'CC', 'BD', 'DB', 'weekday', 'time', 'requests', 'actual_time_to_arrival', 'arrive_ontime', 'discount', 'avg_surge_diff']\n",
    "\n",
    "# metric (one at a time?)\n",
    "col_m = 'pay/time'"
   ]
  },
  {
   "cell_type": "code",
   "execution_count": 132,
   "metadata": {},
   "outputs": [
    {
     "data": {
      "text/plain": [
       "Index(['trip_id', 'driver_id', 'trip_status', 'actual_time_to_arrival',\n",
       "       'request_time', 'surge_multiplier', 'driver payout', 'start_geo',\n",
       "       'end_geo', 'first_completed_trip', 'lifetime_completed_trips',\n",
       "       'lifetime_fares', 'lifetime_rating', 'estimated_time_to_arrival',\n",
       "       'rider_id', 'rider_payment', 'trip_price_pre_discount',\n",
       "       'first_trip_city_id', 'lifetime_payments', 'lifetime_trips',\n",
       "       'timestamp', 'mean_surge_multipler', 'requests', 'supply_hours',\n",
       "       'trips', 'rider', 'driver', 'time', 'weekday', 'month', 'day',\n",
       "       'weekend', 'arrival_in_mins', 'pay_in_dollars', 'fare/trip',\n",
       "       'arrival/eta', 'arrive_ontime', 'start_end', 'AA', 'AB', 'AC', 'AD',\n",
       "       'BA', 'BB', 'BC', 'BD', 'CA', 'CB', 'CC', 'CD', 'DA', 'DB', 'DC', 'DD',\n",
       "       'discount', 'discount_trip', 'morning', 'midday', 'evening', 'night',\n",
       "       'surge_difference', 'surge_diff', 'loc', 'time_of_day',\n",
       "       'avg_surge_diff', 'pay/time'],\n",
       "      dtype='object')"
      ]
     },
     "execution_count": 132,
     "metadata": {},
     "output_type": "execute_result"
    }
   ],
   "source": [
    "cdnsd.columns"
   ]
  },
  {
   "cell_type": "code",
   "execution_count": 133,
   "metadata": {
    "scrolled": true
   },
   "outputs": [],
   "source": [
    "col_f.append(col_m)"
   ]
  },
  {
   "cell_type": "code",
   "execution_count": 134,
   "metadata": {
    "scrolled": true
   },
   "outputs": [],
   "source": [
    "test = df[col_f].dropna()"
   ]
  },
  {
   "cell_type": "code",
   "execution_count": 135,
   "metadata": {
    "scrolled": false
   },
   "outputs": [
    {
     "data": {
      "text/plain": [
       "<matplotlib.axes._subplots.AxesSubplot at 0x1f48f5c7208>"
      ]
     },
     "execution_count": 135,
     "metadata": {},
     "output_type": "execute_result"
    },
    {
     "data": {
      "image/png": "[encoded data removed]",
      "text/plain": [
       "<matplotlib.figure.Figure at 0x1f48fb19588>"
      ]
     },
     "metadata": {},
     "output_type": "display_data"
    }
   ],
   "source": [
    "sns.heatmap(test.corr())"
   ]
  },
  {
   "cell_type": "code",
   "execution_count": null,
   "metadata": {},
   "outputs": [],
   "source": []
  },
  {
   "cell_type": "code",
   "execution_count": 136,
   "metadata": {
    "scrolled": true
   },
   "outputs": [
    {
     "data": {
      "text/plain": [
       "90.3933220147142"
      ]
     },
     "execution_count": 136,
     "metadata": {},
     "output_type": "execute_result"
    }
   ],
   "source": [
    "percentileofscore(test['pay/time'], 25)"
   ]
  },
  {
   "cell_type": "code",
   "execution_count": 137,
   "metadata": {
    "scrolled": true
   },
   "outputs": [],
   "source": [
    "test_1 = test.copy()[test['pay/time']<=25]"
   ]
  },
  {
   "cell_type": "code",
   "execution_count": 138,
   "metadata": {},
   "outputs": [
    {
     "data": {
      "text/plain": [
       "<matplotlib.axes._subplots.AxesSubplot at 0x1f490eb1940>"
      ]
     },
     "execution_count": 138,
     "metadata": {},
     "output_type": "execute_result"
    },
    {
     "data": {
      "image/png": "[encoded data removed]",
      "text/plain": [
       "<matplotlib.figure.Figure at 0x1f48e82c588>"
      ]
     },
     "metadata": {},
     "output_type": "display_data"
    }
   ],
   "source": [
    "sns.heatmap(test_1.corr())"
   ]
  },
  {
   "cell_type": "code",
   "execution_count": null,
   "metadata": {},
   "outputs": [],
   "source": []
  },
  {
   "cell_type": "code",
   "execution_count": null,
   "metadata": {},
   "outputs": [],
   "source": []
  },
  {
   "cell_type": "code",
   "execution_count": 139,
   "metadata": {},
   "outputs": [],
   "source": [
    "lg = LinearRegression()\n",
    "dt = DecisionTreeRegressor()\n",
    "rf = RandomForestRegressor()\n",
    "gnb = GaussianNB()"
   ]
  },
  {
   "cell_type": "code",
   "execution_count": 140,
   "metadata": {},
   "outputs": [],
   "source": [
    "def regressions(df, model):\n",
    "    X = df.iloc[:, :-1]\n",
    "    y = df.iloc[:, -1:]\n",
    "    \n",
    "    X_train, X_test, y_train, y_test = train_test_split(X, y)\n",
    "    \n",
    "    if model == 'all':\n",
    "        lg.fit(X_train, y_train)\n",
    "        dt.fit(X_train, y_train)\n",
    "        rf.fit(X_train, y_train.iloc[:, 0])\n",
    "        x = (X_train.shape, X_test.shape, lg.score(X_test, y_test), dt.score(X_test, y_test), rf.score(X_test, y_test))\n",
    "\n",
    "    else:    \n",
    "        model.fit(X_train, y_train.iloc[:, 0])\n",
    "        x = (X_train.shape, X_test.shape, model.score(X_test, y_test))\n",
    "    \n",
    "    return x"
   ]
  },
  {
   "cell_type": "code",
   "execution_count": 141,
   "metadata": {},
   "outputs": [
    {
     "data": {
      "text/plain": [
       "((33542, 15),\n",
       " (11181, 15),\n",
       " 0.4052914057517386,\n",
       " 0.6922687508983907,\n",
       " 0.8327867153815536)"
      ]
     },
     "execution_count": 141,
     "metadata": {},
     "output_type": "execute_result"
    }
   ],
   "source": [
    "regressions(test_1, 'all')"
   ]
  },
  {
   "cell_type": "code",
   "execution_count": 142,
   "metadata": {},
   "outputs": [],
   "source": [
    "original_col.append(col_m)"
   ]
  },
  {
   "cell_type": "code",
   "execution_count": 143,
   "metadata": {
    "scrolled": true
   },
   "outputs": [],
   "source": [
    "df_o = df.copy()[original_col].dropna()"
   ]
  },
  {
   "cell_type": "code",
   "execution_count": 144,
   "metadata": {},
   "outputs": [],
   "source": [
    "df_orig = df_o[df_o['pay/time']<=25]"
   ]
  },
  {
   "cell_type": "code",
   "execution_count": 145,
   "metadata": {},
   "outputs": [
    {
     "data": {
      "text/plain": [
       "((33524, 15),\n",
       " (11175, 15),\n",
       " 0.4254066139063771,\n",
       " 0.5746046431285449,\n",
       " 0.7709324347447766)"
      ]
     },
     "execution_count": 145,
     "metadata": {},
     "output_type": "execute_result"
    }
   ],
   "source": [
    "regressions(df_orig, 'all')"
   ]
  },
  {
   "cell_type": "code",
   "execution_count": 146,
   "metadata": {},
   "outputs": [],
   "source": [
    "X_1 = df.drop(['trip_price_pre_discount', 'start_end', 'trip_status', 'request_time', 'first_completed_trip', 'driver payout', 'rider_payment', 'pay_in_dollars', 'timestamp', 'start_geo', 'end_geo', 'trip_id', 'weekday', 'driver_id', 'rider_id'], axis=1)"
   ]
  },
  {
   "cell_type": "code",
   "execution_count": 147,
   "metadata": {},
   "outputs": [],
   "source": [
    "X_1.dropna(inplace=True)"
   ]
  },
  {
   "cell_type": "code",
   "execution_count": 148,
   "metadata": {},
   "outputs": [],
   "source": [
    "X_1 = X_1[X_1['pay/time']<=20]"
   ]
  },
  {
   "cell_type": "code",
   "execution_count": 149,
   "metadata": {},
   "outputs": [],
   "source": [
    "X_2 = X_1.drop(original_col, axis=1)"
   ]
  },
  {
   "cell_type": "code",
   "execution_count": 150,
   "metadata": {},
   "outputs": [],
   "source": [
    "X_2['driver'] = X_1.copy()['driver']\n",
    "X_2['rider'] = X_1.copy()['rider']\n",
    "X_2['pay/time'] = X_1.copy()['pay/time']"
   ]
  },
  {
   "cell_type": "code",
   "execution_count": 151,
   "metadata": {},
   "outputs": [
    {
     "data": {
      "text/plain": [
       "((33116, 50),\n",
       " (11039, 50),\n",
       " 0.6810040250800331,\n",
       " 0.731347178289629,\n",
       " 0.8481161298446612)"
      ]
     },
     "execution_count": 151,
     "metadata": {},
     "output_type": "execute_result"
    }
   ],
   "source": [
    "# \"X1\" contains all features/variables that can be used\n",
    "regressions(X_1, 'all')"
   ]
  },
  {
   "cell_type": "code",
   "execution_count": 152,
   "metadata": {},
   "outputs": [
    {
     "data": {
      "text/plain": [
       "Index(['actual_time_to_arrival', 'surge_multiplier',\n",
       "       'lifetime_completed_trips', 'lifetime_fares', 'lifetime_rating',\n",
       "       'estimated_time_to_arrival', 'first_trip_city_id', 'lifetime_payments',\n",
       "       'lifetime_trips', 'mean_surge_multipler', 'requests', 'supply_hours',\n",
       "       'trips', 'rider', 'driver', 'time', 'month', 'day', 'weekend',\n",
       "       'arrival_in_mins', 'fare/trip', 'arrival/eta', 'arrive_ontime', 'AA',\n",
       "       'AB', 'AC', 'AD', 'BA', 'BB', 'BC', 'BD', 'CA', 'CB', 'CC', 'CD', 'DA',\n",
       "       'DB', 'DC', 'DD', 'discount', 'discount_trip', 'morning', 'midday',\n",
       "       'evening', 'night', 'surge_difference', 'surge_diff', 'loc',\n",
       "       'time_of_day', 'avg_surge_diff', 'pay/time'],\n",
       "      dtype='object')"
      ]
     },
     "execution_count": 152,
     "metadata": {},
     "output_type": "execute_result"
    }
   ],
   "source": [
    "X_1.columns"
   ]
  },
  {
   "cell_type": "code",
   "execution_count": 153,
   "metadata": {},
   "outputs": [
    {
     "data": {
      "text/plain": [
       "((33116, 37),\n",
       " (11039, 37),\n",
       " 0.5690549008957213,\n",
       " 0.6339335840330271,\n",
       " 0.7928846244153653)"
      ]
     },
     "execution_count": 153,
     "metadata": {},
     "output_type": "execute_result"
    }
   ],
   "source": [
    "# \"X2\" = \"X1\" - \"original_col\" ( + variables/features that are needed)\n",
    "regressions(X_2, 'all')"
   ]
  },
  {
   "cell_type": "code",
   "execution_count": 154,
   "metadata": {},
   "outputs": [
    {
     "data": {
      "text/plain": [
       "Index(['time', 'month', 'day', 'weekend', 'arrival_in_mins', 'fare/trip',\n",
       "       'arrival/eta', 'arrive_ontime', 'AA', 'AB', 'AC', 'AD', 'BA', 'BB',\n",
       "       'BC', 'BD', 'CA', 'CB', 'CC', 'CD', 'DA', 'DB', 'DC', 'DD', 'discount',\n",
       "       'discount_trip', 'morning', 'midday', 'evening', 'night',\n",
       "       'surge_difference', 'surge_diff', 'loc', 'time_of_day',\n",
       "       'avg_surge_diff', 'driver', 'rider', 'pay/time'],\n",
       "      dtype='object')"
      ]
     },
     "execution_count": 154,
     "metadata": {},
     "output_type": "execute_result"
    }
   ],
   "source": [
    "X_2.columns"
   ]
  },
  {
   "cell_type": "code",
   "execution_count": null,
   "metadata": {},
   "outputs": [],
   "source": []
  },
  {
   "cell_type": "code",
   "execution_count": 67,
   "metadata": {},
   "outputs": [],
   "source": [
    "# X_11 = X_1.iloc[:, :-1]\n",
    "# y_11 = X_1.iloc[:, -1:]\n",
    "\n",
    "X_11 = test_1.iloc[:, :-1]\n",
    "y_11 = test_1.iloc[:, -1:]"
   ]
  },
  {
   "cell_type": "code",
   "execution_count": 68,
   "metadata": {},
   "outputs": [],
   "source": [
    "yyy = np.asarray(y_11['pay/time'], dtype=\"|S6\")"
   ]
  },
  {
   "cell_type": "code",
   "execution_count": 69,
   "metadata": {},
   "outputs": [],
   "source": [
    "X_train, X_test, y_train, y_test = train_test_split(X_11, yyy)\n"
   ]
  },
  {
   "cell_type": "code",
   "execution_count": 70,
   "metadata": {
    "scrolled": true
   },
   "outputs": [
    {
     "data": {
      "text/plain": [
       "GaussianNB(priors=None)"
      ]
     },
     "execution_count": 70,
     "metadata": {},
     "output_type": "execute_result"
    }
   ],
   "source": [
    "gnb.fit(X_train, y_train)"
   ]
  },
  {
   "cell_type": "code",
   "execution_count": 71,
   "metadata": {
    "scrolled": true
   },
   "outputs": [
    {
     "data": {
      "text/plain": [
       "0.0008049369466058492"
      ]
     },
     "execution_count": 71,
     "metadata": {},
     "output_type": "execute_result"
    }
   ],
   "source": [
    "gnb.score(X_test, y_test)"
   ]
  },
  {
   "cell_type": "code",
   "execution_count": null,
   "metadata": {},
   "outputs": [],
   "source": []
  },
  {
   "cell_type": "code",
   "execution_count": null,
   "metadata": {},
   "outputs": [],
   "source": []
  },
  {
   "cell_type": "code",
   "execution_count": null,
   "metadata": {},
   "outputs": [],
   "source": []
  },
  {
   "cell_type": "markdown",
   "metadata": {},
   "source": [
    "##### am i supposed to groupby the highest 'pay/time' (except for the outliers)"
   ]
  },
  {
   "cell_type": "code",
   "execution_count": 72,
   "metadata": {},
   "outputs": [
    {
     "data": {
      "text/plain": [
       "Index(['trip_id', 'driver_id', 'trip_status', 'actual_time_to_arrival',\n",
       "       'request_time', 'surge_multiplier', 'driver payout', 'start_geo',\n",
       "       'end_geo', 'first_completed_trip', 'lifetime_completed_trips',\n",
       "       'lifetime_fares', 'lifetime_rating', 'estimated_time_to_arrival',\n",
       "       'rider_id', 'rider_payment', 'trip_price_pre_discount',\n",
       "       'first_trip_city_id', 'lifetime_payments', 'lifetime_trips',\n",
       "       'timestamp', 'mean_surge_multipler', 'requests', 'supply_hours',\n",
       "       'trips', 'rider', 'driver', 'time', 'weekday', 'month', 'day',\n",
       "       'weekend', 'arrival_in_mins', 'pay_in_dollars', 'fare/trip',\n",
       "       'arrival/eta', 'arrive_ontime', 'start_end', 'AA', 'AB', 'AC', 'AD',\n",
       "       'BA', 'BB', 'BC', 'BD', 'CA', 'CB', 'CC', 'CD', 'DA', 'DB', 'DC', 'DD',\n",
       "       'discount', 'discount_trip', 'morning', 'midday', 'evening', 'night',\n",
       "       'surge_difference', 'surge_diff', 'loc', 'time_of_day',\n",
       "       'avg_surge_diff', 'pay/time', 'avg_pay_diff'],\n",
       "      dtype='object')"
      ]
     },
     "execution_count": 72,
     "metadata": {},
     "output_type": "execute_result"
    }
   ],
   "source": [
    "df.columns"
   ]
  },
  {
   "cell_type": "code",
   "execution_count": 73,
   "metadata": {},
   "outputs": [],
   "source": [
    "col_n_f = ['driver', 'rider', 'pay/time', 'surge_multiplier', 'requests', 'estimated_time_to_arrival', 'rider_payment', 'time', 'weekday', 'CC', 'BD', 'DB']\n",
    "col_n_m = 'loc'"
   ]
  },
  {
   "cell_type": "code",
   "execution_count": null,
   "metadata": {},
   "outputs": [],
   "source": []
  },
  {
   "cell_type": "code",
   "execution_count": 74,
   "metadata": {},
   "outputs": [],
   "source": [
    "col_n_f.append(col_n_m)"
   ]
  },
  {
   "cell_type": "code",
   "execution_count": 75,
   "metadata": {},
   "outputs": [],
   "source": [
    "df_n = df[col_n_f].dropna()"
   ]
  },
  {
   "cell_type": "code",
   "execution_count": 76,
   "metadata": {},
   "outputs": [],
   "source": [
    "df_n = df_n[df_n['pay/time']<=25]"
   ]
  },
  {
   "cell_type": "code",
   "execution_count": 77,
   "metadata": {},
   "outputs": [
    {
     "data": {
      "text/plain": [
       "<matplotlib.axes._subplots.AxesSubplot at 0x1f48ef699e8>"
      ]
     },
     "execution_count": 77,
     "metadata": {},
     "output_type": "execute_result"
    },
    {
     "data": {
      "image/png": "[encoded data removed]",
      "text/plain": [
       "<matplotlib.figure.Figure at 0x1f48e31d470>"
      ]
     },
     "metadata": {},
     "output_type": "display_data"
    }
   ],
   "source": [
    "sns.heatmap(df_n.corr())"
   ]
  },
  {
   "cell_type": "code",
   "execution_count": 78,
   "metadata": {},
   "outputs": [],
   "source": [
    "bnb = BernoulliNB()"
   ]
  },
  {
   "cell_type": "code",
   "execution_count": 79,
   "metadata": {},
   "outputs": [
    {
     "data": {
      "text/plain": [
       "((33569, 12), (11190, 12), 0.5970509383378017)"
      ]
     },
     "execution_count": 79,
     "metadata": {},
     "output_type": "execute_result"
    }
   ],
   "source": [
    "regressions(df_n, bnb)"
   ]
  },
  {
   "cell_type": "code",
   "execution_count": null,
   "metadata": {},
   "outputs": [],
   "source": []
  },
  {
   "cell_type": "code",
   "execution_count": null,
   "metadata": {},
   "outputs": [],
   "source": []
  },
  {
   "cell_type": "code",
   "execution_count": null,
   "metadata": {},
   "outputs": [],
   "source": []
  },
  {
   "cell_type": "code",
   "execution_count": 80,
   "metadata": {},
   "outputs": [],
   "source": [
    "gnb_pf = GaussianNB()"
   ]
  },
  {
   "cell_type": "code",
   "execution_count": null,
   "metadata": {},
   "outputs": [],
   "source": []
  },
  {
   "cell_type": "code",
   "execution_count": null,
   "metadata": {},
   "outputs": [],
   "source": []
  },
  {
   "cell_type": "code",
   "execution_count": 81,
   "metadata": {},
   "outputs": [],
   "source": [
    "def price_mapper(price):\n",
    "    if price < 5:\n",
    "        return 1\n",
    "    elif price < 10:\n",
    "        return 2\n",
    "    elif price < 15:\n",
    "        return 3\n",
    "    elif price < 20:\n",
    "        return 4\n",
    "    else:\n",
    "        return 5"
   ]
  },
  {
   "cell_type": "code",
   "execution_count": 82,
   "metadata": {},
   "outputs": [],
   "source": [
    "cdnsd['price_bin'] = cdnsd['trip_price_pre_discount'].apply(lambda x: price_mapper(x))"
   ]
  },
  {
   "cell_type": "code",
   "execution_count": 83,
   "metadata": {},
   "outputs": [
    {
     "data": {
      "text/plain": [
       "price_bin\n",
       "1    1.080016\n",
       "2    1.111983\n",
       "3    1.351200\n",
       "4    1.402783\n",
       "5    1.268695\n",
       "Name: surge_multiplier, dtype: float64"
      ]
     },
     "execution_count": 83,
     "metadata": {},
     "output_type": "execute_result"
    }
   ],
   "source": [
    "cdnsd.groupby('price_bin')['surge_multiplier'].mean()"
   ]
  },
  {
   "cell_type": "code",
   "execution_count": 84,
   "metadata": {},
   "outputs": [
    {
     "data": {
      "text/plain": [
       "<matplotlib.axes._subplots.AxesSubplot at 0x1f48e3256d8>"
      ]
     },
     "execution_count": 84,
     "metadata": {},
     "output_type": "execute_result"
    },
    {
     "data": {
      "image/png": "[encoded data removed]",
      "text/plain": [
       "<matplotlib.figure.Figure at 0x1f491746780>"
      ]
     },
     "metadata": {},
     "output_type": "display_data"
    }
   ],
   "source": [
    "cdnsd.groupby('loc')['trip_price_pre_discount'].mean().plot(kind='bar')"
   ]
  },
  {
   "cell_type": "code",
   "execution_count": 85,
   "metadata": {
    "scrolled": true
   },
   "outputs": [
    {
     "data": {
      "text/plain": [
       "arrive_ontime\n",
       "0    8.629727\n",
       "1    7.810235\n",
       "Name: trip_price_pre_discount, dtype: float64"
      ]
     },
     "execution_count": 85,
     "metadata": {},
     "output_type": "execute_result"
    }
   ],
   "source": [
    "cdnsd.groupby('arrive_ontime')['trip_price_pre_discount'].mean()"
   ]
  },
  {
   "cell_type": "code",
   "execution_count": 86,
   "metadata": {},
   "outputs": [
    {
     "data": {
      "text/plain": [
       "<matplotlib.axes._subplots.AxesSubplot at 0x1f48e663860>"
      ]
     },
     "execution_count": 86,
     "metadata": {},
     "output_type": "execute_result"
    },
    {
     "data": {
      "image/png": "[encoded data removed]",
      "text/plain": [
       "<matplotlib.figure.Figure at 0x1f48e5ecd30>"
      ]
     },
     "metadata": {},
     "output_type": "display_data"
    }
   ],
   "source": [
    "sns.violinplot(x='arrive_ontime', y='trip_price_pre_discount', data=cdnsd)"
   ]
  },
  {
   "cell_type": "code",
   "execution_count": 87,
   "metadata": {},
   "outputs": [
    {
     "data": {
      "image/png": "[encoded data removed]",
      "text/plain": [
       "<matplotlib.figure.Figure at 0x1f48fc17278>"
      ]
     },
     "metadata": {},
     "output_type": "display_data"
    }
   ],
   "source": [
    "plt.hist(cdnsd['trip_price_pre_discount'], bins=np.linspace(0, 200, 50))\n",
    "plt.show()"
   ]
  },
  {
   "cell_type": "code",
   "execution_count": 88,
   "metadata": {},
   "outputs": [
    {
     "data": {
      "text/plain": [
       "<matplotlib.axes._subplots.AxesSubplot at 0x1f490eca7f0>"
      ]
     },
     "execution_count": 88,
     "metadata": {},
     "output_type": "execute_result"
    },
    {
     "data": {
      "image/png": "[encoded data removed]",
      "text/plain": [
       "<matplotlib.figure.Figure at 0x1f48fac4358>"
      ]
     },
     "metadata": {},
     "output_type": "display_data"
    }
   ],
   "source": [
    "sns.violinplot(x='arrive_ontime', y='trip_price_pre_discount', data=df)"
   ]
  },
  {
   "cell_type": "code",
   "execution_count": 89,
   "metadata": {},
   "outputs": [
    {
     "data": {
      "text/plain": [
       "arrive_ontime\n",
       "0    8.479850\n",
       "1    7.797862\n",
       "Name: trip_price_pre_discount, dtype: float64"
      ]
     },
     "execution_count": 89,
     "metadata": {},
     "output_type": "execute_result"
    }
   ],
   "source": [
    "df.groupby('arrive_ontime')['trip_price_pre_discount'].mean()"
   ]
  },
  {
   "cell_type": "code",
   "execution_count": 90,
   "metadata": {},
   "outputs": [
    {
     "data": {
      "text/plain": [
       "arrive_ontime\n",
       "0    8.479850\n",
       "1    7.797862\n",
       "Name: trip_price_pre_discount, dtype: float64"
      ]
     },
     "execution_count": 90,
     "metadata": {},
     "output_type": "execute_result"
    }
   ],
   "source": [
    "df.groupby('arrive_ontime')['trip_price_pre_discount'].mean()"
   ]
  },
  {
   "cell_type": "code",
   "execution_count": null,
   "metadata": {},
   "outputs": [],
   "source": []
  },
  {
   "cell_type": "code",
   "execution_count": null,
   "metadata": {},
   "outputs": [],
   "source": []
  },
  {
   "cell_type": "code",
   "execution_count": 91,
   "metadata": {},
   "outputs": [],
   "source": [
    "col2 = ['actual_time_to_arrival', 'arrive_ontime', 'surge_diff']\n",
    "\n",
    "X_0 = df[['loc','surge_multiplier', 'surge_diff', 'arrive_ontime', 'actual_time_to_arrival']]\n",
    "y_0 = df.trip_price_pre_discount"
   ]
  },
  {
   "cell_type": "code",
   "execution_count": null,
   "metadata": {},
   "outputs": [],
   "source": []
  },
  {
   "cell_type": "code",
   "execution_count": null,
   "metadata": {},
   "outputs": [],
   "source": []
  },
  {
   "cell_type": "code",
   "execution_count": null,
   "metadata": {},
   "outputs": [],
   "source": []
  },
  {
   "cell_type": "code",
   "execution_count": 92,
   "metadata": {},
   "outputs": [
    {
     "ename": "NameError",
     "evalue": "name 'y_predict' is not defined",
     "output_type": "error",
     "traceback": [
      "\u001b[1;31m---------------------------------------------------------------------------\u001b[0m",
      "\u001b[1;31mNameError\u001b[0m                                 Traceback (most recent call last)",
      "\u001b[1;32m<ipython-input-92-6dde50c384e4>\u001b[0m in \u001b[0;36m<module>\u001b[1;34m()\u001b[0m\n\u001b[1;32m----> 1\u001b[1;33m \u001b[0mabs\u001b[0m\u001b[1;33m(\u001b[0m\u001b[0my_predict\u001b[0m \u001b[1;33m-\u001b[0m \u001b[0my_test\u001b[0m\u001b[1;33m)\u001b[0m\u001b[1;33m.\u001b[0m\u001b[0mmean\u001b[0m\u001b[1;33m(\u001b[0m\u001b[1;33m)\u001b[0m\u001b[1;33m\u001b[0m\u001b[0m\n\u001b[0m",
      "\u001b[1;31mNameError\u001b[0m: name 'y_predict' is not defined"
     ]
    }
   ],
   "source": [
    "abs(y_predict - y_test).mean()"
   ]
  },
  {
   "cell_type": "code",
   "execution_count": null,
   "metadata": {},
   "outputs": [],
   "source": [
    "# plt.scatter(y_test, y_predict-y_test)"
   ]
  },
  {
   "cell_type": "code",
   "execution_count": null,
   "metadata": {},
   "outputs": [],
   "source": []
  },
  {
   "cell_type": "code",
   "execution_count": null,
   "metadata": {},
   "outputs": [],
   "source": []
  },
  {
   "cell_type": "code",
   "execution_count": null,
   "metadata": {},
   "outputs": [],
   "source": []
  },
  {
   "cell_type": "code",
   "execution_count": null,
   "metadata": {},
   "outputs": [],
   "source": []
  },
  {
   "cell_type": "code",
   "execution_count": null,
   "metadata": {},
   "outputs": [],
   "source": []
  },
  {
   "cell_type": "markdown",
   "metadata": {},
   "source": [
    "#### average price per location"
   ]
  },
  {
   "cell_type": "code",
   "execution_count": null,
   "metadata": {},
   "outputs": [],
   "source": []
  },
  {
   "cell_type": "code",
   "execution_count": null,
   "metadata": {},
   "outputs": [],
   "source": []
  },
  {
   "cell_type": "code",
   "execution_count": null,
   "metadata": {},
   "outputs": [],
   "source": []
  },
  {
   "cell_type": "code",
   "execution_count": null,
   "metadata": {},
   "outputs": [],
   "source": []
  },
  {
   "cell_type": "code",
   "execution_count": null,
   "metadata": {},
   "outputs": [],
   "source": []
  },
  {
   "cell_type": "code",
   "execution_count": null,
   "metadata": {},
   "outputs": [],
   "source": [
    "gnb = GaussianNB()"
   ]
  },
  {
   "cell_type": "code",
   "execution_count": null,
   "metadata": {},
   "outputs": [],
   "source": []
  },
  {
   "cell_type": "code",
   "execution_count": null,
   "metadata": {},
   "outputs": [],
   "source": []
  },
  {
   "cell_type": "code",
   "execution_count": null,
   "metadata": {
    "scrolled": true
   },
   "outputs": [],
   "source": [
    "sns.set()\n",
    "\n",
    "g = sns.FacetGrid(city_metrics, col='weekday', size=7, aspect=1, col_wrap=3)\n",
    "g.map(sns.pointplot, 'time', 'mean_surge_multipler')"
   ]
  },
  {
   "cell_type": "code",
   "execution_count": null,
   "metadata": {
    "scrolled": true
   },
   "outputs": [],
   "source": []
  },
  {
   "cell_type": "code",
   "execution_count": null,
   "metadata": {},
   "outputs": [],
   "source": [
    "driver_payout = cdnsd.groupby(['weekday', 'time'])['driver payout'].mean()"
   ]
  },
  {
   "cell_type": "code",
   "execution_count": null,
   "metadata": {
    "scrolled": true
   },
   "outputs": [],
   "source": [
    "driver_payout = driver_payout.unstack(level=0)[aa]"
   ]
  },
  {
   "cell_type": "code",
   "execution_count": null,
   "metadata": {},
   "outputs": [],
   "source": [
    "sns.heatmap(driver_payout)\n",
    "\n",
    "# group this one with eta"
   ]
  },
  {
   "cell_type": "code",
   "execution_count": null,
   "metadata": {},
   "outputs": [],
   "source": [
    "cdnsd.groupby(['start_geo', 'end_geo'])['estimated_time_to_arrival'].mean()"
   ]
  },
  {
   "cell_type": "code",
   "execution_count": null,
   "metadata": {
    "scrolled": true
   },
   "outputs": [],
   "source": [
    "city_surge = city_metrics.groupby(['weekday', 'time'])['mean_surge_multipler'].mean()\n",
    "city_req = city_metrics.groupby(['weekday', 'time'])['requests'].mean()\n",
    "city_trips = city_metrics.groupby(['weekday', 'time'])['trips'].mean()\n",
    "city_supply = city_metrics.groupby(['weekday', 'time'])['supply_hours'].mean()"
   ]
  },
  {
   "cell_type": "code",
   "execution_count": null,
   "metadata": {
    "scrolled": true
   },
   "outputs": [],
   "source": [
    "city_surge = city_surge.unstack(level=0)[aa]\n",
    "city_req = city_req.unstack(level=0)[aa]\n",
    "city_trips = city_trips.unstack(level=0)[aa]\n",
    "city_supply = city_supply.unstack(level=0)[aa]"
   ]
  },
  {
   "cell_type": "code",
   "execution_count": null,
   "metadata": {},
   "outputs": [],
   "source": [
    "sns.heatmap(city_surge * city_supply)"
   ]
  },
  {
   "cell_type": "markdown",
   "metadata": {},
   "source": [
    "First, the **\"outlier\" on 'Th' at 8** may be causing higher percentage of neutral colors (below)"
   ]
  },
  {
   "cell_type": "code",
   "execution_count": null,
   "metadata": {},
   "outputs": [],
   "source": [
    "sns.heatmap(city_surge)"
   ]
  },
  {
   "cell_type": "code",
   "execution_count": null,
   "metadata": {},
   "outputs": [],
   "source": [
    "sns.heatmap(city_supply)"
   ]
  },
  {
   "cell_type": "code",
   "execution_count": null,
   "metadata": {},
   "outputs": [],
   "source": []
  },
  {
   "cell_type": "code",
   "execution_count": null,
   "metadata": {},
   "outputs": [],
   "source": []
  },
  {
   "cell_type": "code",
   "execution_count": null,
   "metadata": {},
   "outputs": [],
   "source": []
  },
  {
   "cell_type": "code",
   "execution_count": null,
   "metadata": {},
   "outputs": [],
   "source": []
  },
  {
   "cell_type": "code",
   "execution_count": null,
   "metadata": {},
   "outputs": [],
   "source": []
  },
  {
   "cell_type": "code",
   "execution_count": null,
   "metadata": {},
   "outputs": [],
   "source": []
  },
  {
   "cell_type": "code",
   "execution_count": null,
   "metadata": {},
   "outputs": [],
   "source": []
  },
  {
   "cell_type": "code",
   "execution_count": null,
   "metadata": {},
   "outputs": [],
   "source": []
  },
  {
   "cell_type": "code",
   "execution_count": null,
   "metadata": {},
   "outputs": [],
   "source": []
  },
  {
   "cell_type": "code",
   "execution_count": null,
   "metadata": {},
   "outputs": [],
   "source": []
  },
  {
   "cell_type": "code",
   "execution_count": null,
   "metadata": {},
   "outputs": [],
   "source": []
  },
  {
   "cell_type": "code",
   "execution_count": null,
   "metadata": {},
   "outputs": [],
   "source": []
  },
  {
   "cell_type": "code",
   "execution_count": null,
   "metadata": {},
   "outputs": [],
   "source": []
  },
  {
   "cell_type": "code",
   "execution_count": null,
   "metadata": {},
   "outputs": [],
   "source": []
  },
  {
   "cell_type": "code",
   "execution_count": null,
   "metadata": {},
   "outputs": [],
   "source": []
  },
  {
   "cell_type": "code",
   "execution_count": null,
   "metadata": {},
   "outputs": [],
   "source": []
  },
  {
   "cell_type": "code",
   "execution_count": null,
   "metadata": {},
   "outputs": [],
   "source": []
  },
  {
   "cell_type": "code",
   "execution_count": null,
   "metadata": {},
   "outputs": [],
   "source": []
  },
  {
   "cell_type": "markdown",
   "metadata": {},
   "source": [
    "### question is about new drivers\n",
    "### better locations and times (assuming when mean surge multiplier is high)\n",
    "\n",
    "### in city_metrics, i have mean_surge_mult by the hour...\n",
    "\n",
    "***\n",
    "\n",
    "\n",
    "# when grouping up by variables, A/A test each \n",
    "## do this in case of unexpected or seasonal events (outliers)\n",
    "### actually a big difference between an unexpected event and a seasonal event\n",
    "### skirt around for now\n",
    "\n",
    "\n",
    "## find mean of 'surge_multiplier' in driver_trips"
   ]
  },
  {
   "cell_type": "code",
   "execution_count": null,
   "metadata": {},
   "outputs": [],
   "source": [
    "tips = sns.load_dataset(\"tips\")"
   ]
  },
  {
   "cell_type": "code",
   "execution_count": null,
   "metadata": {},
   "outputs": [],
   "source": [
    "g = sns.factorplot(x='end_geo', y='driver payout', col='start_geo', data=cdnsd, kind='bar', size=4, aspect=.7)"
   ]
  },
  {
   "cell_type": "code",
   "execution_count": null,
   "metadata": {},
   "outputs": [],
   "source": [
    "g = sns.factorplot(x='end_geo', y='surge_multiplier', col='start_geo', data=cdnsd, kind='bar', size=4, aspect=.7, sharey=False)"
   ]
  },
  {
   "cell_type": "code",
   "execution_count": null,
   "metadata": {},
   "outputs": [],
   "source": [
    "g = sns.factorplot(x='end_geo', y='estimated_time_to_arrival', col='start_geo', data=cdnsd, kind='bar', size=4, aspect=.7, sharey=False)"
   ]
  },
  {
   "cell_type": "code",
   "execution_count": null,
   "metadata": {},
   "outputs": [],
   "source": []
  },
  {
   "cell_type": "code",
   "execution_count": null,
   "metadata": {},
   "outputs": [],
   "source": [
    "cdnsd.groupby('start_geo')['surge_multiplier'].mean()"
   ]
  },
  {
   "cell_type": "code",
   "execution_count": null,
   "metadata": {},
   "outputs": [],
   "source": [
    "cdnsd.groupby('start_geo')['driver payout'].mean()"
   ]
  },
  {
   "cell_type": "code",
   "execution_count": null,
   "metadata": {},
   "outputs": [],
   "source": [
    "cdnsd.groupby('end_geo')['driver payout'].mean()"
   ]
  },
  {
   "cell_type": "code",
   "execution_count": null,
   "metadata": {},
   "outputs": [],
   "source": [
    "cdnsd.groupby(['start_geo', 'end_geo'])['surge_multiplier'].mean()"
   ]
  },
  {
   "cell_type": "code",
   "execution_count": null,
   "metadata": {},
   "outputs": [],
   "source": [
    "cdnsd.groupby(['start_geo', 'end_geo'])['driver payout'].mean()"
   ]
  },
  {
   "cell_type": "code",
   "execution_count": null,
   "metadata": {},
   "outputs": [],
   "source": [
    "cdnsd.groupby(['start_geo', 'end_geo'])['estimated_time_to_arrival'].mean()"
   ]
  },
  {
   "cell_type": "code",
   "execution_count": null,
   "metadata": {},
   "outputs": [],
   "source": []
  },
  {
   "cell_type": "code",
   "execution_count": null,
   "metadata": {},
   "outputs": [],
   "source": []
  },
  {
   "cell_type": "code",
   "execution_count": null,
   "metadata": {},
   "outputs": [],
   "source": []
  },
  {
   "cell_type": "code",
   "execution_count": null,
   "metadata": {},
   "outputs": [],
   "source": []
  },
  {
   "cell_type": "code",
   "execution_count": null,
   "metadata": {},
   "outputs": [],
   "source": []
  },
  {
   "cell_type": "code",
   "execution_count": null,
   "metadata": {},
   "outputs": [],
   "source": []
  },
  {
   "cell_type": "code",
   "execution_count": null,
   "metadata": {},
   "outputs": [],
   "source": []
  },
  {
   "cell_type": "code",
   "execution_count": null,
   "metadata": {},
   "outputs": [],
   "source": []
  },
  {
   "cell_type": "code",
   "execution_count": null,
   "metadata": {},
   "outputs": [],
   "source": []
  },
  {
   "cell_type": "code",
   "execution_count": null,
   "metadata": {},
   "outputs": [],
   "source": []
  },
  {
   "cell_type": "code",
   "execution_count": null,
   "metadata": {},
   "outputs": [],
   "source": []
  },
  {
   "cell_type": "code",
   "execution_count": null,
   "metadata": {},
   "outputs": [],
   "source": []
  },
  {
   "cell_type": "code",
   "execution_count": null,
   "metadata": {},
   "outputs": [],
   "source": []
  },
  {
   "cell_type": "code",
   "execution_count": null,
   "metadata": {},
   "outputs": [],
   "source": []
  },
  {
   "cell_type": "code",
   "execution_count": null,
   "metadata": {},
   "outputs": [],
   "source": []
  },
  {
   "cell_type": "code",
   "execution_count": null,
   "metadata": {},
   "outputs": [],
   "source": []
  },
  {
   "cell_type": "code",
   "execution_count": null,
   "metadata": {},
   "outputs": [],
   "source": []
  },
  {
   "cell_type": "code",
   "execution_count": null,
   "metadata": {},
   "outputs": [],
   "source": []
  },
  {
   "cell_type": "code",
   "execution_count": null,
   "metadata": {},
   "outputs": [],
   "source": [
    "X = test_1.iloc[:, :-1]\n",
    "y = test_1.iloc[:, -1:]"
   ]
  },
  {
   "cell_type": "code",
   "execution_count": null,
   "metadata": {},
   "outputs": [],
   "source": [
    "X_train, X_test, y_train, y_test = train_test_split(X, y)"
   ]
  },
  {
   "cell_type": "code",
   "execution_count": null,
   "metadata": {},
   "outputs": [],
   "source": [
    "X_train.shape"
   ]
  },
  {
   "cell_type": "code",
   "execution_count": null,
   "metadata": {},
   "outputs": [],
   "source": [
    "X_test.shape"
   ]
  },
  {
   "cell_type": "code",
   "execution_count": null,
   "metadata": {},
   "outputs": [],
   "source": []
  },
  {
   "cell_type": "code",
   "execution_count": null,
   "metadata": {},
   "outputs": [],
   "source": [
    "lg.fit(X_train, y_train)"
   ]
  },
  {
   "cell_type": "code",
   "execution_count": null,
   "metadata": {},
   "outputs": [],
   "source": [
    "lg.score(X_test, y_test)"
   ]
  },
  {
   "cell_type": "code",
   "execution_count": null,
   "metadata": {},
   "outputs": [],
   "source": [
    "y_predict = lg.predict(X_test)"
   ]
  },
  {
   "cell_type": "code",
   "execution_count": null,
   "metadata": {},
   "outputs": [],
   "source": []
  },
  {
   "cell_type": "code",
   "execution_count": null,
   "metadata": {},
   "outputs": [],
   "source": [
    "dt.fit(X_train, y_train)"
   ]
  },
  {
   "cell_type": "code",
   "execution_count": null,
   "metadata": {},
   "outputs": [],
   "source": [
    "dt.score(X_test, y_test)"
   ]
  },
  {
   "cell_type": "code",
   "execution_count": null,
   "metadata": {
    "scrolled": true
   },
   "outputs": [],
   "source": [
    "rf.fit(X_train, y_train.iloc[:, 0])"
   ]
  },
  {
   "cell_type": "code",
   "execution_count": null,
   "metadata": {},
   "outputs": [],
   "source": [
    "rf.score(X_test, y_test)"
   ]
  },
  {
   "cell_type": "code",
   "execution_count": null,
   "metadata": {},
   "outputs": [],
   "source": []
  },
  {
   "cell_type": "code",
   "execution_count": null,
   "metadata": {},
   "outputs": [],
   "source": []
  },
  {
   "cell_type": "code",
   "execution_count": null,
   "metadata": {},
   "outputs": [],
   "source": []
  },
  {
   "cell_type": "code",
   "execution_count": null,
   "metadata": {},
   "outputs": [],
   "source": []
  },
  {
   "cell_type": "code",
   "execution_count": null,
   "metadata": {},
   "outputs": [],
   "source": []
  }
 ],
 "metadata": {
  "kernelspec": {
   "display_name": "Python 3",
   "language": "python",
   "name": "python3"
  },
  "language_info": {
   "codemirror_mode": {
    "name": "ipython",
    "version": 3
   },
   "file_extension": ".py",
   "mimetype": "text/x-python",
   "name": "python",
   "nbconvert_exporter": "python",
   "pygments_lexer": "ipython3",
   "version": "3.6.4"
  }
 },
 "nbformat": 4,
 "nbformat_minor": 2
}
